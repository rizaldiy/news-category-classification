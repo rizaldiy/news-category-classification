{
 "cells": [
  {
   "cell_type": "markdown",
   "id": "f5305c84",
   "metadata": {},
   "source": [
    "Kelompok 9:\n",
    "- Adham Erlangga Siwi\n",
    "- Rizaldi Yusuf "
   ]
  },
  {
   "cell_type": "markdown",
   "id": "e77acd39",
   "metadata": {},
   "source": [
    "# Import Libraries"
   ]
  },
  {
   "cell_type": "code",
   "execution_count": 1,
   "id": "34c8884f",
   "metadata": {
    "ExecuteTime": {
     "end_time": "2021-12-06T05:29:03.461534Z",
     "start_time": "2021-12-06T05:28:58.450482Z"
    }
   },
   "outputs": [],
   "source": [
    "#untuk mengolah data\n",
    "import pandas as pd\n",
    "import numpy as np\n",
    "import re\n",
    "import string\n",
    "import ast\n",
    "from imblearn.over_sampling import SMOTE\n",
    "\n",
    "#untuk pengolahan (membersihkan) teks\n",
    "import nltk\n",
    "from nltk import word_tokenize, FreqDist\n",
    "from nltk.corpus import stopwords\n",
    "from nltk.stem import WordNetLemmatizer\n",
    "from Sastrawi.Stemmer.StemmerFactory import StemmerFactory\n",
    "from Sastrawi.StopWordRemover.StopWordRemoverFactory import StopWordRemoverFactory\n",
    "\n",
    "#untuk visualisasi\n",
    "import seaborn as sns\n",
    "import matplotlib.pyplot as plt\n",
    "\n",
    "from itertools import islice\n",
    "import difflib\n",
    "\n",
    "#untuk membangun model\n",
    "from sklearn.model_selection import train_test_split\n",
    "from sklearn.feature_extraction.text import TfidfVectorizer, CountVectorizer, TfidfTransformer\n",
    "from sklearn import model_selection, svm\n",
    "from sklearn import naive_bayes\n",
    "from sklearn.ensemble import RandomForestClassifier\n",
    "from sklearn.tree import DecisionTreeClassifier\n",
    "from sklearn.linear_model import LogisticRegression \n",
    "from sklearn.metrics import accuracy_score,recall_score, confusion_matrix, classification_report\n",
    "from sklearn import preprocessing\n",
    "from sklearn.preprocessing import LabelEncoder\n",
    "\n",
    "import pickle"
   ]
  },
  {
   "cell_type": "code",
   "execution_count": 2,
   "id": "a71d9750",
   "metadata": {
    "ExecuteTime": {
     "end_time": "2021-12-06T05:29:03.723504Z",
     "start_time": "2021-12-06T05:29:03.464331Z"
    }
   },
   "outputs": [
    {
     "data": {
      "text/html": [
       "<div>\n",
       "<style scoped>\n",
       "    .dataframe tbody tr th:only-of-type {\n",
       "        vertical-align: middle;\n",
       "    }\n",
       "\n",
       "    .dataframe tbody tr th {\n",
       "        vertical-align: top;\n",
       "    }\n",
       "\n",
       "    .dataframe thead th {\n",
       "        text-align: right;\n",
       "    }\n",
       "</style>\n",
       "<table border=\"1\" class=\"dataframe\">\n",
       "  <thead>\n",
       "    <tr style=\"text-align: right;\">\n",
       "      <th></th>\n",
       "      <th>Link</th>\n",
       "      <th>Title</th>\n",
       "      <th>Date</th>\n",
       "      <th>Text</th>\n",
       "      <th>Category</th>\n",
       "    </tr>\n",
       "  </thead>\n",
       "  <tbody>\n",
       "    <tr>\n",
       "      <th>0</th>\n",
       "      <td>https://www.cnnindonesia.com/nasional/20211203...</td>\n",
       "      <td>Bamsoet Bertemu Sri Mulyani: Agar Tak Salah Paham</td>\n",
       "      <td>Jumat, 03 Dec 2021 21:18 WIB</td>\n",
       "      <td>Pimpinan MPR menggelar forum resmi dengan Ment...</td>\n",
       "      <td>Nasional</td>\n",
       "    </tr>\n",
       "    <tr>\n",
       "      <th>1</th>\n",
       "      <td>https://www.cnnindonesia.com/internasional/202...</td>\n",
       "      <td>UEA Rekor Beli 80 Jet Tempur Prancis Setara Rp...</td>\n",
       "      <td>Jumat, 03 Dec 2021 21:04 WIB</td>\n",
       "      <td>Uni Emirat Arab (UEA) menandatangani kontrak r...</td>\n",
       "      <td>Internasional</td>\n",
       "    </tr>\n",
       "    <tr>\n",
       "      <th>2</th>\n",
       "      <td>https://www.cnnindonesia.com/hiburan/202112031...</td>\n",
       "      <td>BTS Usai Konser Permission to Dance: See You i...</td>\n",
       "      <td>Jumat, 03 Dec 2021 21:00 WIB</td>\n",
       "      <td>BTS telah selesai menggelar konser bertajuk BT...</td>\n",
       "      <td>Hiburan</td>\n",
       "    </tr>\n",
       "    <tr>\n",
       "      <th>3</th>\n",
       "      <td>https://www.cnnindonesia.com/teknologi/2021120...</td>\n",
       "      <td>FOTO: 50 Tahun 'Tersembunyi', Iran Pamerkan Mo...</td>\n",
       "      <td>Jumat, 03 Dec 2021 21:00 WIB</td>\n",
       "      <td>NaN</td>\n",
       "      <td>Teknologi</td>\n",
       "    </tr>\n",
       "    <tr>\n",
       "      <th>4</th>\n",
       "      <td>https://www.cnnindonesia.com/nasional/20211203...</td>\n",
       "      <td>Ketua Panja RUU TPKS: Semoga Ada Titik Cerah</td>\n",
       "      <td>Jumat, 03 Dec 2021 20:56 WIB</td>\n",
       "      <td>Ketua Panitia Kerja Rancangan Undang-undang Ti...</td>\n",
       "      <td>Nasional</td>\n",
       "    </tr>\n",
       "  </tbody>\n",
       "</table>\n",
       "</div>"
      ],
      "text/plain": [
       "                                                Link  \\\n",
       "0  https://www.cnnindonesia.com/nasional/20211203...   \n",
       "1  https://www.cnnindonesia.com/internasional/202...   \n",
       "2  https://www.cnnindonesia.com/hiburan/202112031...   \n",
       "3  https://www.cnnindonesia.com/teknologi/2021120...   \n",
       "4  https://www.cnnindonesia.com/nasional/20211203...   \n",
       "\n",
       "                                               Title  \\\n",
       "0  Bamsoet Bertemu Sri Mulyani: Agar Tak Salah Paham   \n",
       "1  UEA Rekor Beli 80 Jet Tempur Prancis Setara Rp...   \n",
       "2  BTS Usai Konser Permission to Dance: See You i...   \n",
       "3  FOTO: 50 Tahun 'Tersembunyi', Iran Pamerkan Mo...   \n",
       "4       Ketua Panja RUU TPKS: Semoga Ada Titik Cerah   \n",
       "\n",
       "                           Date  \\\n",
       "0  Jumat, 03 Dec 2021 21:18 WIB   \n",
       "1  Jumat, 03 Dec 2021 21:04 WIB   \n",
       "2  Jumat, 03 Dec 2021 21:00 WIB   \n",
       "3  Jumat, 03 Dec 2021 21:00 WIB   \n",
       "4  Jumat, 03 Dec 2021 20:56 WIB   \n",
       "\n",
       "                                                Text       Category  \n",
       "0  Pimpinan MPR menggelar forum resmi dengan Ment...       Nasional  \n",
       "1  Uni Emirat Arab (UEA) menandatangani kontrak r...  Internasional  \n",
       "2  BTS telah selesai menggelar konser bertajuk BT...        Hiburan  \n",
       "3                                                NaN      Teknologi  \n",
       "4  Ketua Panitia Kerja Rancangan Undang-undang Ti...       Nasional  "
      ]
     },
     "execution_count": 2,
     "metadata": {},
     "output_type": "execute_result"
    }
   ],
   "source": [
    "#load dataset\n",
    "df = pd.read_csv('Datasets/cnn_dataset.csv')\n",
    "df.head()"
   ]
  },
  {
   "cell_type": "code",
   "execution_count": 3,
   "id": "b52df80e",
   "metadata": {
    "ExecuteTime": {
     "end_time": "2021-12-06T05:29:03.757490Z",
     "start_time": "2021-12-06T05:29:03.727561Z"
    }
   },
   "outputs": [
    {
     "name": "stdout",
     "output_type": "stream",
     "text": [
      "<class 'pandas.core.frame.DataFrame'>\n",
      "RangeIndex: 4157 entries, 0 to 4156\n",
      "Data columns (total 5 columns):\n",
      " #   Column    Non-Null Count  Dtype \n",
      "---  ------    --------------  ----- \n",
      " 0   Link      4157 non-null   object\n",
      " 1   Title     4157 non-null   object\n",
      " 2   Date      4157 non-null   object\n",
      " 3   Text      3838 non-null   object\n",
      " 4   Category  4157 non-null   object\n",
      "dtypes: object(5)\n",
      "memory usage: 162.5+ KB\n"
     ]
    }
   ],
   "source": [
    "#menampilkan informasi umum dari dataset\n",
    "df.info()"
   ]
  },
  {
   "cell_type": "code",
   "execution_count": 4,
   "id": "812087f2",
   "metadata": {
    "ExecuteTime": {
     "end_time": "2021-12-06T05:29:03.773065Z",
     "start_time": "2021-12-06T05:29:03.759449Z"
    }
   },
   "outputs": [
    {
     "data": {
      "text/plain": [
       "Link          0\n",
       "Title         0\n",
       "Date          0\n",
       "Text        319\n",
       "Category      0\n",
       "dtype: int64"
      ]
     },
     "execution_count": 4,
     "metadata": {},
     "output_type": "execute_result"
    }
   ],
   "source": [
    "#check data yang Nan\n",
    "df.isna().sum()"
   ]
  },
  {
   "cell_type": "code",
   "execution_count": 5,
   "id": "a4a10119",
   "metadata": {
    "ExecuteTime": {
     "end_time": "2021-12-06T05:29:03.812082Z",
     "start_time": "2021-12-06T05:29:03.775149Z"
    }
   },
   "outputs": [
    {
     "data": {
      "text/plain": [
       "Link        0\n",
       "Title       0\n",
       "Date        0\n",
       "Text        0\n",
       "Category    0\n",
       "dtype: int64"
      ]
     },
     "execution_count": 5,
     "metadata": {},
     "output_type": "execute_result"
    }
   ],
   "source": [
    "#drop baris yang kosong pada kolom text\n",
    "df.dropna(subset = ['Text'],inplace = True)\n",
    "#check data kembali\n",
    "df.isna().sum()"
   ]
  },
  {
   "cell_type": "markdown",
   "id": "f889d771",
   "metadata": {},
   "source": [
    "kini dataset sudah bersih dari baris yang kosong"
   ]
  },
  {
   "cell_type": "code",
   "execution_count": 6,
   "id": "14a7a203",
   "metadata": {
    "ExecuteTime": {
     "end_time": "2021-12-06T05:29:03.846624Z",
     "start_time": "2021-12-06T05:29:03.816186Z"
    }
   },
   "outputs": [
    {
     "data": {
      "text/plain": [
       "Nasional         1303\n",
       "Ekonomi           633\n",
       "Olahraga          617\n",
       "Internasional     343\n",
       "Teknologi         333\n",
       "Gaya Hidup        306\n",
       "Hiburan           303\n",
       "Name: Category, dtype: int64"
      ]
     },
     "execution_count": 6,
     "metadata": {},
     "output_type": "execute_result"
    }
   ],
   "source": [
    "df['Category'].value_counts()"
   ]
  },
  {
   "cell_type": "markdown",
   "id": "31cedc70",
   "metadata": {},
   "source": [
    "# Cleaning"
   ]
  },
  {
   "cell_type": "markdown",
   "id": "29d30cc8",
   "metadata": {},
   "source": [
    "membersihkan data dari url, hex characters, baris baru (\\n), mention, hashtag, single char (contoh: a), angka, spasi dari awal teks, dan multiplechar (contoh: enggggggga)"
   ]
  },
  {
   "cell_type": "code",
   "execution_count": 7,
   "id": "4cdb4745",
   "metadata": {
    "ExecuteTime": {
     "end_time": "2021-12-06T05:29:07.034657Z",
     "start_time": "2021-12-06T05:29:03.856197Z"
    }
   },
   "outputs": [],
   "source": [
    "def cleaning(text):\n",
    "  #remove url\n",
    "  text = re.sub(r\"http\\S+\", \"\", text)\n",
    "  #remove hex characters\n",
    "  text = re.sub(r'(\\\\x(.){2})', '', text)\n",
    "  #remove newlines\n",
    "  text = re.sub(r'\\s+|\\\\n', ' ', text)\n",
    "  #remove hashtags\n",
    "  text = re.sub(r'\\B#\\w*[a-zA-Z]+\\w*','', text)\n",
    "  #remove single char\n",
    "  text = re.sub(r'\\b[a-zA-Z]\\b','', text)\n",
    "  #remove number\n",
    "  text = re.sub(r'\\d+','', text)\n",
    "  #remove punctuation / tanda baca\n",
    "  text = re.sub(r'[^\\w\\s]+', ' ', text)\n",
    "  #remove spasi dari awal teks\n",
    "  text = re.sub(r\"/^\\\\s+/m\", '', text)\n",
    "  #remove character yang memilliki kurang dari 3 huruf\n",
    "  text = re.sub(r'\\b\\w{1,3}\\b', '', text)\n",
    "  return text\n",
    "\n",
    "df['Cleaning'] = df['Text'].apply(cleaning)"
   ]
  },
  {
   "cell_type": "code",
   "execution_count": 8,
   "id": "d0255720",
   "metadata": {
    "ExecuteTime": {
     "end_time": "2021-12-06T05:29:07.059223Z",
     "start_time": "2021-12-06T05:29:07.039105Z"
    }
   },
   "outputs": [
    {
     "name": "stdout",
     "output_type": "stream",
     "text": [
      "BTS telah selesai menggelar konser bertajuk BTS PERMISSION TO DANCE ON STAGE - LA. Setelah Los Angeles, BTS menyatakan bakal menyambut fan atau ARMY di Seoul pada 2022.,Hal tersebut diumumkan melalui akun resmi media sosial BTS pada Jumat (3/12). ARMY meyakini jadwal itu merupakan rencana konser BTS selanjutnya dalam waktu dekat.,\"Sampai bertemu di Seoul, Maret 2022,\" tulis cuitan tersebut.,Pengumuman itu disertai dengan foto para member BTS dengan latar tema seperti konser Permission To Dance On Stage - LA.,Sebelumnya, konser PERMISSION TO DANCE ON STAGE - LA resmi berakhir pada Kamis (2/12). Band Inggris Coldplay ikut meramaikan hari terakhir konser BTS itu. BTS dan Coldplay membawakan single kolaborasi mereka, My Universe.,Selain Coldplay, rapper Megan Thee Stallion juga turut meramaikan konser BTS itu. Megan tampil di hari kedua konser yang berlangsung pada 28 November.,Megan Thee Stallion tampil bersama BTS membawakan single Butter versi remix. Ini merupakan kali pertama mereka membawakan Butter versi remix secara langsung setelah single kolaborasi itu dirilis Agustus lalu.,BTS juga bertemu kembali dengan Halsey yang pernah berkolaborasi dengan mereka dalam single Boy With Luv. Single ini dirilis pada 2019.,Musisi asal Indonesia Rich Brian juga turut menyaksikan konser konser BTS PERMISSION TO DANCE ON STAGE - LA.,Lewat video yang diunggah ke media sosial pada Selasa (30/11), penyanyi bernama asli Brian Imanuel itu terlihat ikut berjoget bahkan menggoyangkan Army Bomb ketika menyaksikan konser itu.,BTS PERMISSION TO DANCE ON STAGE - LA menjadi konser offline pertama BTS dalam dua tahun terakhir setelah menggelar BTS WORLD TOUR LOVE YOURSELF: SPEAK YOURSELF THE FINAL 2019 di Seoul.,Konser ini berlangsung di SoFi Stadium pada 27-28 Novembers, serta 1-2 Desember 2021.,Dalam konser akhir pekan lalu, BTS berhasil memecahkan rekor baru. BTS disebut menjadi artis pertama yang berhasil menjual habis seluruh tiket untuk empat hari konsernya di SoFi Stadium.,Namun, beberapa kursi tidak diisi untuk konser BTS PERMISSION TO DANCE ON STAGE - LA karena tertutup layar besar di belakang panggung. Sehingga, jumlah maksimum kursi yang tersedia sekitar 50 ribu.,\"Konser ini mencapai penjualan tiket tertinggi di antara konser yang pernah diadakan satu band atau artis di SoFi Stadium,\" tutur Wakil Presiden Senior Pemrograman SoFi Stadium Christy Castillo Butcher. seperti dilansir MoneyS via Naver, Senin (29/11).,Tak hanya digelar offline, konser tersebut juga disiarkan online via live streaming di YouTube Theater dengan kapasitas 6.400 kursi. \n",
      "\n",
      " telah selesai menggelar konser bertajuk  PERMISSION  DANCE  STAGE     Setelah  Angeles   menyatakan bakal menyambut  atau ARMY  Seoul pada   tersebut diumumkan melalui akun resmi media sosial  pada Jumat   ARMY meyakini jadwal  merupakan rencana konser  selanjutnya dalam waktu dekat Sampai bertemu  Seoul  Maret   tulis cuitan tersebut Pengumuman  disertai dengan foto para member  dengan latar tema seperti konser Permission  Dance  Stage    Sebelumnya  konser PERMISSION  DANCE  STAGE    resmi berakhir pada Kamis   Band Inggris Coldplay ikut meramaikan hari terakhir konser      Coldplay membawakan single kolaborasi mereka   Universe Selain Coldplay  rapper Megan Thee Stallion juga turut meramaikan konser    Megan tampil  hari kedua konser yang berlangsung pada  November Megan Thee Stallion tampil bersama  membawakan single Butter versi remix   merupakan kali pertama mereka membawakan Butter versi remix secara langsung setelah single kolaborasi  dirilis Agustus lalu  juga bertemu kembali dengan Halsey yang pernah berkolaborasi dengan mereka dalam single  With   Single  dirilis pada  Musisi asal Indonesia Rich Brian juga turut menyaksikan konser konser  PERMISSION  DANCE  STAGE    Lewat video yang diunggah  media sosial pada Selasa   penyanyi bernama asli Brian Imanuel  terlihat ikut berjoget bahkan menggoyangkan Army Bomb ketika menyaksikan konser   PERMISSION  DANCE  STAGE    menjadi konser offline pertama  dalam  tahun terakhir setelah menggelar  WORLD TOUR LOVE YOURSELF  SPEAK YOURSELF  FINAL   Seoul Konser  berlangsung  SoFi Stadium pada   Novembers  serta   Desember  Dalam konser akhir pekan lalu   berhasil memecahkan rekor baru   disebut menjadi artis pertama yang berhasil menjual habis seluruh tiket untuk empat hari konsernya  SoFi Stadium Namun  beberapa kursi tidak diisi untuk konser  PERMISSION  DANCE  STAGE    karena tertutup layar besar  belakang panggung  Sehingga  jumlah maksimum kursi yang tersedia sekitar  ribu Konser  mencapai penjualan tiket tertinggi  antara konser yang pernah diadakan satu band atau artis  SoFi Stadium  tutur Wakil Presiden Senior Pemrograman SoFi Stadium Christy Castillo Butcher  seperti dilansir MoneyS  Naver  Senin   hanya digelar offline  konser tersebut juga disiarkan online  live streaming  YouTube Theater dengan kapasitas   kursi  \n",
      "\n"
     ]
    }
   ],
   "source": [
    "#contoh data yang sudah dibersihkan\n",
    "for i in df.loc[2][['Text','Cleaning']]:\n",
    "    print(i,'\\n')"
   ]
  },
  {
   "cell_type": "markdown",
   "id": "2b6a5eab",
   "metadata": {},
   "source": [
    "# Casefolding\n",
    "\n",
    "Mengubah huruf kapital menjadi huruf kecil, agar kata seperti \"Tes\" dan \"tes\" menjadi \"tes\" dan \"tes\" (seragam)"
   ]
  },
  {
   "cell_type": "code",
   "execution_count": 9,
   "id": "2679df4a",
   "metadata": {
    "ExecuteTime": {
     "end_time": "2021-12-06T05:29:07.142203Z",
     "start_time": "2021-12-06T05:29:07.067301Z"
    }
   },
   "outputs": [],
   "source": [
    "df['Casefolding'] = df['Cleaning'].str.lower()"
   ]
  },
  {
   "cell_type": "code",
   "execution_count": 10,
   "id": "24cc5e19",
   "metadata": {
    "ExecuteTime": {
     "end_time": "2021-12-06T05:29:07.187231Z",
     "start_time": "2021-12-06T05:29:07.150590Z"
    }
   },
   "outputs": [
    {
     "name": "stdout",
     "output_type": "stream",
     "text": [
      " telah selesai menggelar konser bertajuk  PERMISSION  DANCE  STAGE     Setelah  Angeles   menyatakan bakal menyambut  atau ARMY  Seoul pada   tersebut diumumkan melalui akun resmi media sosial  pada Jumat   ARMY meyakini jadwal  merupakan rencana konser  selanjutnya dalam waktu dekat Sampai bertemu  Seoul  Maret   tulis cuitan tersebut Pengumuman  disertai dengan foto para member  dengan latar tema seperti konser Permission  Dance  Stage    Sebelumnya  konser PERMISSION  DANCE  STAGE    resmi berakhir pada Kamis   Band Inggris Coldplay ikut meramaikan hari terakhir konser      Coldplay membawakan single kolaborasi mereka   Universe Selain Coldplay  rapper Megan Thee Stallion juga turut meramaikan konser    Megan tampil  hari kedua konser yang berlangsung pada  November Megan Thee Stallion tampil bersama  membawakan single Butter versi remix   merupakan kali pertama mereka membawakan Butter versi remix secara langsung setelah single kolaborasi  dirilis Agustus lalu  juga bertemu kembali dengan Halsey yang pernah berkolaborasi dengan mereka dalam single  With   Single  dirilis pada  Musisi asal Indonesia Rich Brian juga turut menyaksikan konser konser  PERMISSION  DANCE  STAGE    Lewat video yang diunggah  media sosial pada Selasa   penyanyi bernama asli Brian Imanuel  terlihat ikut berjoget bahkan menggoyangkan Army Bomb ketika menyaksikan konser   PERMISSION  DANCE  STAGE    menjadi konser offline pertama  dalam  tahun terakhir setelah menggelar  WORLD TOUR LOVE YOURSELF  SPEAK YOURSELF  FINAL   Seoul Konser  berlangsung  SoFi Stadium pada   Novembers  serta   Desember  Dalam konser akhir pekan lalu   berhasil memecahkan rekor baru   disebut menjadi artis pertama yang berhasil menjual habis seluruh tiket untuk empat hari konsernya  SoFi Stadium Namun  beberapa kursi tidak diisi untuk konser  PERMISSION  DANCE  STAGE    karena tertutup layar besar  belakang panggung  Sehingga  jumlah maksimum kursi yang tersedia sekitar  ribu Konser  mencapai penjualan tiket tertinggi  antara konser yang pernah diadakan satu band atau artis  SoFi Stadium  tutur Wakil Presiden Senior Pemrograman SoFi Stadium Christy Castillo Butcher  seperti dilansir MoneyS  Naver  Senin   hanya digelar offline  konser tersebut juga disiarkan online  live streaming  YouTube Theater dengan kapasitas   kursi  \n",
      "\n",
      " telah selesai menggelar konser bertajuk  permission  dance  stage     setelah  angeles   menyatakan bakal menyambut  atau army  seoul pada   tersebut diumumkan melalui akun resmi media sosial  pada jumat   army meyakini jadwal  merupakan rencana konser  selanjutnya dalam waktu dekat sampai bertemu  seoul  maret   tulis cuitan tersebut pengumuman  disertai dengan foto para member  dengan latar tema seperti konser permission  dance  stage    sebelumnya  konser permission  dance  stage    resmi berakhir pada kamis   band inggris coldplay ikut meramaikan hari terakhir konser      coldplay membawakan single kolaborasi mereka   universe selain coldplay  rapper megan thee stallion juga turut meramaikan konser    megan tampil  hari kedua konser yang berlangsung pada  november megan thee stallion tampil bersama  membawakan single butter versi remix   merupakan kali pertama mereka membawakan butter versi remix secara langsung setelah single kolaborasi  dirilis agustus lalu  juga bertemu kembali dengan halsey yang pernah berkolaborasi dengan mereka dalam single  with   single  dirilis pada  musisi asal indonesia rich brian juga turut menyaksikan konser konser  permission  dance  stage    lewat video yang diunggah  media sosial pada selasa   penyanyi bernama asli brian imanuel  terlihat ikut berjoget bahkan menggoyangkan army bomb ketika menyaksikan konser   permission  dance  stage    menjadi konser offline pertama  dalam  tahun terakhir setelah menggelar  world tour love yourself  speak yourself  final   seoul konser  berlangsung  sofi stadium pada   novembers  serta   desember  dalam konser akhir pekan lalu   berhasil memecahkan rekor baru   disebut menjadi artis pertama yang berhasil menjual habis seluruh tiket untuk empat hari konsernya  sofi stadium namun  beberapa kursi tidak diisi untuk konser  permission  dance  stage    karena tertutup layar besar  belakang panggung  sehingga  jumlah maksimum kursi yang tersedia sekitar  ribu konser  mencapai penjualan tiket tertinggi  antara konser yang pernah diadakan satu band atau artis  sofi stadium  tutur wakil presiden senior pemrograman sofi stadium christy castillo butcher  seperti dilansir moneys  naver  senin   hanya digelar offline  konser tersebut juga disiarkan online  live streaming  youtube theater dengan kapasitas   kursi  \n",
      "\n"
     ]
    }
   ],
   "source": [
    "for i in df.loc[2][['Cleaning','Casefolding']]:\n",
    "    print(i,'\\n')"
   ]
  },
  {
   "cell_type": "markdown",
   "id": "6fa5e290",
   "metadata": {
    "ExecuteTime": {
     "end_time": "2021-11-22T16:03:17.771588Z",
     "start_time": "2021-11-22T16:03:17.762611Z"
    }
   },
   "source": [
    "# Tokenizing"
   ]
  },
  {
   "cell_type": "markdown",
   "id": "3afc7506",
   "metadata": {},
   "source": [
    "memisahkan kalimat menjadi potongan kata dengan menggunakan library word_tokenize dari nltk"
   ]
  },
  {
   "cell_type": "code",
   "execution_count": 11,
   "id": "f114ef1f",
   "metadata": {
    "ExecuteTime": {
     "end_time": "2021-12-06T05:29:17.127757Z",
     "start_time": "2021-12-06T05:29:07.194902Z"
    }
   },
   "outputs": [],
   "source": [
    "df['Tokenized'] = df['Casefolding'].apply(word_tokenize)"
   ]
  },
  {
   "cell_type": "code",
   "execution_count": 12,
   "id": "79f4d9c5",
   "metadata": {
    "ExecuteTime": {
     "end_time": "2021-12-06T05:29:17.142936Z",
     "start_time": "2021-12-06T05:29:17.131159Z"
    }
   },
   "outputs": [
    {
     "name": "stdout",
     "output_type": "stream",
     "text": [
      " telah selesai menggelar konser bertajuk  permission  dance  stage     setelah  angeles   menyatakan bakal menyambut  atau army  seoul pada   tersebut diumumkan melalui akun resmi media sosial  pada jumat   army meyakini jadwal  merupakan rencana konser  selanjutnya dalam waktu dekat sampai bertemu  seoul  maret   tulis cuitan tersebut pengumuman  disertai dengan foto para member  dengan latar tema seperti konser permission  dance  stage    sebelumnya  konser permission  dance  stage    resmi berakhir pada kamis   band inggris coldplay ikut meramaikan hari terakhir konser      coldplay membawakan single kolaborasi mereka   universe selain coldplay  rapper megan thee stallion juga turut meramaikan konser    megan tampil  hari kedua konser yang berlangsung pada  november megan thee stallion tampil bersama  membawakan single butter versi remix   merupakan kali pertama mereka membawakan butter versi remix secara langsung setelah single kolaborasi  dirilis agustus lalu  juga bertemu kembali dengan halsey yang pernah berkolaborasi dengan mereka dalam single  with   single  dirilis pada  musisi asal indonesia rich brian juga turut menyaksikan konser konser  permission  dance  stage    lewat video yang diunggah  media sosial pada selasa   penyanyi bernama asli brian imanuel  terlihat ikut berjoget bahkan menggoyangkan army bomb ketika menyaksikan konser   permission  dance  stage    menjadi konser offline pertama  dalam  tahun terakhir setelah menggelar  world tour love yourself  speak yourself  final   seoul konser  berlangsung  sofi stadium pada   novembers  serta   desember  dalam konser akhir pekan lalu   berhasil memecahkan rekor baru   disebut menjadi artis pertama yang berhasil menjual habis seluruh tiket untuk empat hari konsernya  sofi stadium namun  beberapa kursi tidak diisi untuk konser  permission  dance  stage    karena tertutup layar besar  belakang panggung  sehingga  jumlah maksimum kursi yang tersedia sekitar  ribu konser  mencapai penjualan tiket tertinggi  antara konser yang pernah diadakan satu band atau artis  sofi stadium  tutur wakil presiden senior pemrograman sofi stadium christy castillo butcher  seperti dilansir moneys  naver  senin   hanya digelar offline  konser tersebut juga disiarkan online  live streaming  youtube theater dengan kapasitas   kursi  \n",
      "\n",
      "['telah', 'selesai', 'menggelar', 'konser', 'bertajuk', 'permission', 'dance', 'stage', 'setelah', 'angeles', 'menyatakan', 'bakal', 'menyambut', 'atau', 'army', 'seoul', 'pada', 'tersebut', 'diumumkan', 'melalui', 'akun', 'resmi', 'media', 'sosial', 'pada', 'jumat', 'army', 'meyakini', 'jadwal', 'merupakan', 'rencana', 'konser', 'selanjutnya', 'dalam', 'waktu', 'dekat', 'sampai', 'bertemu', 'seoul', 'maret', 'tulis', 'cuitan', 'tersebut', 'pengumuman', 'disertai', 'dengan', 'foto', 'para', 'member', 'dengan', 'latar', 'tema', 'seperti', 'konser', 'permission', 'dance', 'stage', 'sebelumnya', 'konser', 'permission', 'dance', 'stage', 'resmi', 'berakhir', 'pada', 'kamis', 'band', 'inggris', 'coldplay', 'ikut', 'meramaikan', 'hari', 'terakhir', 'konser', 'coldplay', 'membawakan', 'single', 'kolaborasi', 'mereka', 'universe', 'selain', 'coldplay', 'rapper', 'megan', 'thee', 'stallion', 'juga', 'turut', 'meramaikan', 'konser', 'megan', 'tampil', 'hari', 'kedua', 'konser', 'yang', 'berlangsung', 'pada', 'november', 'megan', 'thee', 'stallion', 'tampil', 'bersama', 'membawakan', 'single', 'butter', 'versi', 'remix', 'merupakan', 'kali', 'pertama', 'mereka', 'membawakan', 'butter', 'versi', 'remix', 'secara', 'langsung', 'setelah', 'single', 'kolaborasi', 'dirilis', 'agustus', 'lalu', 'juga', 'bertemu', 'kembali', 'dengan', 'halsey', 'yang', 'pernah', 'berkolaborasi', 'dengan', 'mereka', 'dalam', 'single', 'with', 'single', 'dirilis', 'pada', 'musisi', 'asal', 'indonesia', 'rich', 'brian', 'juga', 'turut', 'menyaksikan', 'konser', 'konser', 'permission', 'dance', 'stage', 'lewat', 'video', 'yang', 'diunggah', 'media', 'sosial', 'pada', 'selasa', 'penyanyi', 'bernama', 'asli', 'brian', 'imanuel', 'terlihat', 'ikut', 'berjoget', 'bahkan', 'menggoyangkan', 'army', 'bomb', 'ketika', 'menyaksikan', 'konser', 'permission', 'dance', 'stage', 'menjadi', 'konser', 'offline', 'pertama', 'dalam', 'tahun', 'terakhir', 'setelah', 'menggelar', 'world', 'tour', 'love', 'yourself', 'speak', 'yourself', 'final', 'seoul', 'konser', 'berlangsung', 'sofi', 'stadium', 'pada', 'novembers', 'serta', 'desember', 'dalam', 'konser', 'akhir', 'pekan', 'lalu', 'berhasil', 'memecahkan', 'rekor', 'baru', 'disebut', 'menjadi', 'artis', 'pertama', 'yang', 'berhasil', 'menjual', 'habis', 'seluruh', 'tiket', 'untuk', 'empat', 'hari', 'konsernya', 'sofi', 'stadium', 'namun', 'beberapa', 'kursi', 'tidak', 'diisi', 'untuk', 'konser', 'permission', 'dance', 'stage', 'karena', 'tertutup', 'layar', 'besar', 'belakang', 'panggung', 'sehingga', 'jumlah', 'maksimum', 'kursi', 'yang', 'tersedia', 'sekitar', 'ribu', 'konser', 'mencapai', 'penjualan', 'tiket', 'tertinggi', 'antara', 'konser', 'yang', 'pernah', 'diadakan', 'satu', 'band', 'atau', 'artis', 'sofi', 'stadium', 'tutur', 'wakil', 'presiden', 'senior', 'pemrograman', 'sofi', 'stadium', 'christy', 'castillo', 'butcher', 'seperti', 'dilansir', 'moneys', 'naver', 'senin', 'hanya', 'digelar', 'offline', 'konser', 'tersebut', 'juga', 'disiarkan', 'online', 'live', 'streaming', 'youtube', 'theater', 'dengan', 'kapasitas', 'kursi'] \n",
      "\n"
     ]
    }
   ],
   "source": [
    "for i in df.loc[2][['Casefolding','Tokenized']]:\n",
    "    print(i,'\\n')"
   ]
  },
  {
   "cell_type": "markdown",
   "id": "a9f7f56d",
   "metadata": {},
   "source": [
    "# Normalisasi"
   ]
  },
  {
   "cell_type": "markdown",
   "id": "c7fcdd5f",
   "metadata": {},
   "source": [
    "mengubah kata seperti kata gaul dan singkatan menjadi kata normalnya\n",
    "contoh: 7an -> tujuan\n",
    "\n",
    "sumber file: https://github.com/louisowen6/NLP_bahasa_resources"
   ]
  },
  {
   "cell_type": "code",
   "execution_count": 13,
   "id": "05c5a1ef",
   "metadata": {
    "ExecuteTime": {
     "end_time": "2021-12-06T05:29:17.400374Z",
     "start_time": "2021-12-06T05:29:17.146577Z"
    }
   },
   "outputs": [
    {
     "name": "stdout",
     "output_type": "stream",
     "text": [
      "<class 'dict'>\n"
     ]
    },
    {
     "data": {
      "text/plain": [
       "{'@': 'di',\n",
       " 'abis': 'habis',\n",
       " 'ad': 'ada',\n",
       " 'adlh': 'adalah',\n",
       " 'afaik': 'as far as i know',\n",
       " 'ahaha': 'haha',\n",
       " 'aj': 'saja',\n",
       " 'ajep-ajep': 'dunia gemerlap',\n",
       " 'ak': 'saya',\n",
       " 'akika': 'aku',\n",
       " 'akkoh': 'aku',\n",
       " 'akuwh': 'aku',\n",
       " 'alay': 'norak',\n",
       " 'alow': 'halo',\n",
       " 'ambilin': 'ambilkan',\n",
       " 'ancur': 'hancur',\n",
       " 'anjrit': 'anjing',\n",
       " 'anter': 'antar',\n",
       " 'ap2': 'apa-apa',\n",
       " 'apasih': 'apa sih',\n",
       " 'apes': 'sial',\n",
       " 'aps': 'apa',\n",
       " 'aq': 'saya',\n",
       " 'aquwh': 'aku',\n",
       " 'asbun': 'asal bunyi',\n",
       " 'aseekk': 'asyik',\n",
       " 'asekk': 'asyik',\n",
       " 'asem': 'asam',\n",
       " 'aspal': 'asli tetapi palsu',\n",
       " 'astul': 'asal tulis',\n",
       " 'ato': 'atau',\n",
       " 'au ah': 'tidak mau tahu',\n",
       " 'awak': 'saya',\n",
       " 'ay': 'sayang',\n",
       " 'ayank': 'sayang',\n",
       " 'b4': 'sebelum',\n",
       " 'bakalan': 'akan',\n",
       " 'bandes': 'bantuan desa',\n",
       " 'bangedh': 'banget',\n",
       " 'banpol': 'bantuan polisi',\n",
       " 'banpur': 'bantuan tempur',\n",
       " 'basbang': 'basi',\n",
       " 'bcanda': 'bercanda',\n",
       " 'bdg': 'bandung',\n",
       " 'begajulan': 'nakal',\n",
       " 'beliin': 'belikan',\n",
       " 'bencong': 'banci',\n",
       " 'bentar': 'sebentar',\n",
       " 'ber3': 'bertiga',\n",
       " 'beresin': 'membereskan',\n",
       " 'bete': 'bosan',\n",
       " 'beud': 'banget',\n",
       " 'bg': 'abang',\n",
       " 'bgmn': 'bagaimana',\n",
       " 'bgt': 'banget',\n",
       " 'bijimane': 'bagaimana',\n",
       " 'bintal': 'bimbingan mental',\n",
       " 'bkl': 'akan',\n",
       " 'bknnya': 'bukannya',\n",
       " 'blegug': 'bodoh',\n",
       " 'blh': 'boleh',\n",
       " 'bln': 'bulan',\n",
       " 'blum': 'belum',\n",
       " 'bnci': 'benci',\n",
       " 'bnran': 'yang benar',\n",
       " 'bodor': 'lucu',\n",
       " 'bokap': 'ayah',\n",
       " 'boker': 'buang air besar',\n",
       " 'bokis': 'bohong',\n",
       " 'boljug': 'boleh juga',\n",
       " 'bonek': 'bocah nekat',\n",
       " 'boyeh': 'boleh',\n",
       " 'br': 'baru',\n",
       " 'brg': 'bareng',\n",
       " 'bro': 'saudara laki-laki',\n",
       " 'bru': 'baru',\n",
       " 'bs': 'bisa',\n",
       " 'bsen': 'bosan',\n",
       " 'bt': 'buat',\n",
       " 'btw': 'ngomong-ngomong',\n",
       " 'buaya': 'tidak setia',\n",
       " 'bubbu': 'tidur',\n",
       " 'bubu': 'tidur',\n",
       " 'bumil': 'ibu hamil',\n",
       " 'bw': 'bawa',\n",
       " 'bwt': 'buat',\n",
       " 'byk': 'banyak',\n",
       " 'byrin': 'bayarkan',\n",
       " 'cabal': 'sabar',\n",
       " 'cadas': 'keren',\n",
       " 'calo': 'makelar',\n",
       " 'can': 'belum',\n",
       " 'capcus': 'pergi',\n",
       " 'caper': 'cari perhatian',\n",
       " 'ce': 'cewek',\n",
       " 'cekal': 'cegah tangkal',\n",
       " 'cemen': 'penakut',\n",
       " 'cengengesan': 'tertawa',\n",
       " 'cepet': 'cepat',\n",
       " 'cew': 'cewek',\n",
       " 'chuyunk': 'sayang',\n",
       " 'cimeng': 'ganja',\n",
       " 'cipika cipiki': 'cium pipi kanan cium pipi kiri',\n",
       " 'ciyh': 'sih',\n",
       " 'ckepp': 'cakep',\n",
       " 'ckp': 'cakep',\n",
       " 'cmiiw': \"correct me if i'm wrong\",\n",
       " 'cmpur': 'campur',\n",
       " 'cong': 'banci',\n",
       " 'conlok': 'cinta lokasi',\n",
       " 'cowwyy': 'maaf',\n",
       " 'cp': 'siapa',\n",
       " 'cpe': 'capek',\n",
       " 'cppe': 'capek',\n",
       " 'cucok': 'cocok',\n",
       " 'cuex': 'cuek',\n",
       " 'cumi': 'Cuma miscall',\n",
       " 'cups': 'culun',\n",
       " 'curanmor': 'pencurian kendaraan bermotor',\n",
       " 'curcol': 'curahan hati colongan',\n",
       " 'cwek': 'cewek',\n",
       " 'cyin': 'cinta',\n",
       " 'd': 'di',\n",
       " 'dah': 'deh',\n",
       " 'dapet': 'dapat',\n",
       " 'de': 'adik',\n",
       " 'dek': 'adik',\n",
       " 'demen': 'suka',\n",
       " 'deyh': 'deh',\n",
       " 'dgn': 'dengan',\n",
       " 'diancurin': 'dihancurkan',\n",
       " 'dimaafin': 'dimaafkan',\n",
       " 'dimintak': 'diminta',\n",
       " 'disono': 'di sana',\n",
       " 'dket': 'dekat',\n",
       " 'dkk': 'dan kawan-kawan',\n",
       " 'dll': 'dan lain-lain',\n",
       " 'dlu': 'dulu',\n",
       " 'dngn': 'dengan',\n",
       " 'dodol': 'bodoh',\n",
       " 'doku': 'uang',\n",
       " 'dongs': 'dong',\n",
       " 'dpt': 'dapat',\n",
       " 'dri': 'dari',\n",
       " 'drmn': 'darimana',\n",
       " 'drtd': 'dari tadi',\n",
       " 'dst': 'dan seterusnya',\n",
       " 'dtg': 'datang',\n",
       " 'duh': 'aduh',\n",
       " 'duren': 'durian',\n",
       " 'ed': 'edisi',\n",
       " 'egp': 'emang gue pikirin',\n",
       " 'eke': 'aku',\n",
       " 'elu': 'kamu',\n",
       " 'emangnya': 'memangnya',\n",
       " 'emng': 'memang',\n",
       " 'endak': 'tidak',\n",
       " 'enggak': 'tidak',\n",
       " 'envy': 'iri',\n",
       " 'ex': 'mantan',\n",
       " 'fax': 'facsimile',\n",
       " 'fifo': 'first in first out',\n",
       " 'folbek': 'follow back',\n",
       " 'fyi': 'sebagai informasi',\n",
       " 'gaada': 'tidak ada uang',\n",
       " 'gag': 'tidak',\n",
       " 'gaje': 'tidak jelas',\n",
       " 'gak papa': 'tidak apa-apa',\n",
       " 'gan': 'juragan',\n",
       " 'gaptek': 'gagap teknologi',\n",
       " 'gatek': 'gagap teknologi',\n",
       " 'gawe': 'kerja',\n",
       " 'gbs': 'tidak bisa',\n",
       " 'gebetan': 'orang yang disuka',\n",
       " 'geje': 'tidak jelas',\n",
       " 'gepeng': 'gelandangan dan pengemis',\n",
       " 'ghiy': 'lagi',\n",
       " 'gile': 'gila',\n",
       " 'gimana': 'bagaimana',\n",
       " 'gino': 'gigi nongol',\n",
       " 'githu': 'gitu',\n",
       " 'gj': 'tidak jelas',\n",
       " 'gmana': 'bagaimana',\n",
       " 'gn': 'begini',\n",
       " 'goblok': 'bodoh',\n",
       " 'golput': 'golongan putih',\n",
       " 'gowes': 'mengayuh sepeda',\n",
       " 'gpny': 'tidak punya',\n",
       " 'gr': 'gede rasa',\n",
       " 'gretongan': 'gratisan',\n",
       " 'gtau': 'tidak tahu',\n",
       " 'gua': 'saya',\n",
       " 'guoblok': 'goblok',\n",
       " 'gw': 'saya',\n",
       " 'ha': 'tertawa',\n",
       " 'haha': 'tertawa',\n",
       " 'hallow': 'halo',\n",
       " 'hankam': 'pertahanan dan keamanan',\n",
       " 'hehe': 'he',\n",
       " 'helo': 'halo',\n",
       " 'hey': 'hai',\n",
       " 'hlm': 'halaman',\n",
       " 'hny': 'hanya',\n",
       " 'hoax': 'isu bohong',\n",
       " 'hr': 'hari',\n",
       " 'hrus': 'harus',\n",
       " 'hubdar': 'perhubungan darat',\n",
       " 'huff': 'mengeluh',\n",
       " 'hum': 'rumah',\n",
       " 'humz': 'rumah',\n",
       " 'ilang': 'hilang',\n",
       " 'ilfil': 'tidak suka',\n",
       " 'imho': 'in my humble opinion',\n",
       " 'imoetz': 'imut',\n",
       " 'item': 'hitam',\n",
       " 'itungan': 'hitungan',\n",
       " 'iye': 'iya',\n",
       " 'ja': 'saja',\n",
       " 'jadiin': 'jadi',\n",
       " 'jaim': 'jaga image',\n",
       " 'jayus': 'tidak lucu',\n",
       " 'jdi': 'jadi',\n",
       " 'jem': 'jam',\n",
       " 'jga': 'juga',\n",
       " 'jgnkan': 'jangankan',\n",
       " 'jir': 'anjing',\n",
       " 'jln': 'jalan',\n",
       " 'jomblo': 'tidak punya pacar',\n",
       " 'jubir': 'juru bicara',\n",
       " 'jutek': 'galak',\n",
       " 'k': 'ke',\n",
       " 'kab': 'kabupaten',\n",
       " 'kabor': 'kabur',\n",
       " 'kacrut': 'kacau',\n",
       " 'kadiv': 'kepala divisi',\n",
       " 'kagak': 'tidak',\n",
       " 'kalo': 'kalau',\n",
       " 'kampret': 'sialan',\n",
       " 'kamtibmas': 'keamanan dan ketertiban masyarakat',\n",
       " 'kamuwh': 'kamu',\n",
       " 'kanwil': 'kantor wilayah',\n",
       " 'karna': 'karena',\n",
       " 'kasubbag': 'kepala subbagian',\n",
       " 'katrok': 'kampungan',\n",
       " 'kayanya': 'kayaknya',\n",
       " 'kbr': 'kabar',\n",
       " 'kdu': 'harus',\n",
       " 'kec': 'kecamatan',\n",
       " 'kejurnas': 'kejuaraan nasional',\n",
       " 'kekeuh': 'keras kepala',\n",
       " 'kel': 'kelurahan',\n",
       " 'kemaren': 'kemarin',\n",
       " 'kepengen': 'mau',\n",
       " 'kepingin': 'mau',\n",
       " 'kepsek': 'kepala sekolah',\n",
       " 'kesbang': 'kesatuan bangsa',\n",
       " 'kesra': 'kesejahteraan rakyat',\n",
       " 'ketrima': 'diterima',\n",
       " 'kgiatan': 'kegiatan',\n",
       " 'kibul': 'bohong',\n",
       " 'kimpoi': 'kawin',\n",
       " 'kl': 'kalau',\n",
       " 'klianz': 'kalian',\n",
       " 'kloter': 'kelompok terbang',\n",
       " 'klw': 'kalau',\n",
       " 'km': 'kamu',\n",
       " 'kmps': 'kampus',\n",
       " 'kmrn': 'kemarin',\n",
       " 'knal': 'kenal',\n",
       " 'knp': 'kenapa',\n",
       " 'kodya': 'kota madya',\n",
       " 'komdis': 'komisi disiplin',\n",
       " 'komsov': 'komunis sovyet',\n",
       " 'kongkow': 'kumpul bareng teman-teman',\n",
       " 'kopdar': 'kopi darat',\n",
       " 'korup': 'korupsi',\n",
       " 'kpn': 'kapan',\n",
       " 'krenz': 'keren',\n",
       " 'krm': 'kirim',\n",
       " 'kt': 'kita',\n",
       " 'ktmu': 'ketemu',\n",
       " 'ktr': 'kantor',\n",
       " 'kuper': 'kurang pergaulan',\n",
       " 'kw': 'imitasi',\n",
       " 'kyk': 'seperti',\n",
       " 'la': 'lah',\n",
       " 'lam': 'salam',\n",
       " 'lamp': 'lampiran',\n",
       " 'lanud': 'landasan udara',\n",
       " 'latgab': 'latihan gabungan',\n",
       " 'lebay': 'berlebihan',\n",
       " 'leh': 'boleh',\n",
       " 'lelet': 'lambat',\n",
       " 'lemot': 'lambat',\n",
       " 'lgi': 'lagi',\n",
       " 'lgsg': 'langsung',\n",
       " 'liat': 'lihat',\n",
       " 'litbang': 'penelitian dan pengembangan',\n",
       " 'lmyn': 'lumayan',\n",
       " 'lo': 'kamu',\n",
       " 'loe': 'kamu',\n",
       " 'lola': 'lambat berfikir',\n",
       " 'louph': 'cinta',\n",
       " 'low': 'kalau',\n",
       " 'lp': 'lupa',\n",
       " 'luber': 'langsung, umum, bebas, dan rahasia',\n",
       " 'luchuw': 'lucu',\n",
       " 'lum': 'belum',\n",
       " 'luthu': 'lucu',\n",
       " 'lwn': 'lawan',\n",
       " 'maacih': 'terima kasih',\n",
       " 'mabal': 'bolos',\n",
       " 'macem': 'macam',\n",
       " 'macih': 'masih',\n",
       " 'maem': 'makan',\n",
       " 'magabut': 'makan gaji buta',\n",
       " 'maho': 'homo',\n",
       " 'mak jang': 'kaget',\n",
       " 'maksain': 'memaksa',\n",
       " 'malem': 'malam',\n",
       " 'mam': 'makan',\n",
       " 'maneh': 'kamu',\n",
       " 'maniez': 'manis',\n",
       " 'mao': 'mau',\n",
       " 'masukin': 'masukkan',\n",
       " 'melu': 'ikut',\n",
       " 'mepet': 'dekat sekali',\n",
       " 'mgu': 'minggu',\n",
       " 'migas': 'minyak dan gas bumi',\n",
       " 'mikol': 'minuman beralkohol',\n",
       " 'miras': 'minuman keras',\n",
       " 'mlah': 'malah',\n",
       " 'mngkn': 'mungkin',\n",
       " 'mo': 'mau',\n",
       " 'mokad': 'mati',\n",
       " 'moso': 'masa',\n",
       " 'mpe': 'sampai',\n",
       " 'msk': 'masuk',\n",
       " 'mslh': 'masalah',\n",
       " 'mt': 'makan teman',\n",
       " 'mubes': 'musyawarah besar',\n",
       " 'mulu': 'melulu',\n",
       " 'mumpung': 'selagi',\n",
       " 'munas': 'musyawarah nasional',\n",
       " 'muntaber': 'muntah dan berak',\n",
       " 'musti': 'mesti',\n",
       " 'muupz': 'maaf',\n",
       " 'mw': 'now watching',\n",
       " 'n': 'dan',\n",
       " 'nanam': 'menanam',\n",
       " 'nanya': 'bertanya',\n",
       " 'napa': 'kenapa',\n",
       " 'napi': 'narapidana',\n",
       " 'napza': 'narkotika, alkohol, psikotropika, dan zat adiktif ',\n",
       " 'narkoba': 'narkotika, psikotropika, dan obat terlarang',\n",
       " 'nasgor': 'nasi goreng',\n",
       " 'nda': 'tidak',\n",
       " 'ndiri': 'sendiri',\n",
       " 'ne': 'ini',\n",
       " 'nekolin': 'neokolonialisme',\n",
       " 'nembak': 'menyatakan cinta',\n",
       " 'ngabuburit': 'menunggu berbuka puasa',\n",
       " 'ngaku': 'mengaku',\n",
       " 'ngambil': 'mengambil',\n",
       " 'nganggur': 'tidak punya pekerjaan',\n",
       " 'ngapah': 'kenapa',\n",
       " 'ngaret': 'terlambat',\n",
       " 'ngasih': 'memberikan',\n",
       " 'ngebandel': 'berbuat bandel',\n",
       " 'ngegosip': 'bergosip',\n",
       " 'ngeklaim': 'mengklaim',\n",
       " 'ngeksis': 'menjadi eksis',\n",
       " 'ngeles': 'berkilah',\n",
       " 'ngelidur': 'menggigau',\n",
       " 'ngerampok': 'merampok',\n",
       " 'ngga': 'tidak',\n",
       " 'ngibul': 'berbohong',\n",
       " 'ngiler': 'mau',\n",
       " 'ngiri': 'iri',\n",
       " 'ngisiin': 'mengisikan',\n",
       " 'ngmng': 'bicara',\n",
       " 'ngomong': 'bicara',\n",
       " 'ngubek2': 'mencari-cari',\n",
       " 'ngurus': 'mengurus',\n",
       " 'nie': 'ini',\n",
       " 'nih': 'ini',\n",
       " 'niyh': 'nih',\n",
       " 'nmr': 'nomor',\n",
       " 'nntn': 'nonton',\n",
       " 'nobar': 'nonton bareng',\n",
       " 'np': 'now playing',\n",
       " 'ntar': 'nanti',\n",
       " 'ntn': 'nonton',\n",
       " 'numpuk': 'bertumpuk',\n",
       " 'nutupin': 'menutupi',\n",
       " 'nyari': 'mencari',\n",
       " 'nyekar': 'menyekar',\n",
       " 'nyicil': 'mencicil',\n",
       " 'nyoblos': 'mencoblos',\n",
       " 'nyokap': 'ibu',\n",
       " 'ogah': 'tidak mau',\n",
       " 'ol': 'online',\n",
       " 'ongkir': 'ongkos kirim',\n",
       " 'oot': 'out of topic',\n",
       " 'org2': 'orang-orang',\n",
       " 'ortu': 'orang tua',\n",
       " 'otda': 'otonomi daerah',\n",
       " 'otw': 'on the way, sedang di jalan',\n",
       " 'pacal': 'pacar',\n",
       " 'pake': 'pakai',\n",
       " 'pala': 'kepala',\n",
       " 'pansus': 'panitia khusus',\n",
       " 'parpol': 'partai politik',\n",
       " 'pasutri': 'pasangan suami istri',\n",
       " 'pd': 'pada',\n",
       " 'pede': 'percaya diri',\n",
       " 'pelatnas': 'pemusatan latihan nasional',\n",
       " 'pemda': 'pemerintah daerah',\n",
       " 'pemkot': 'pemerintah kota',\n",
       " 'pemred': 'pemimpin redaksi',\n",
       " 'penjas': 'pendidikan jasmani',\n",
       " 'perda': 'peraturan daerah',\n",
       " 'perhatiin': 'perhatikan',\n",
       " 'pesenan': 'pesanan',\n",
       " 'pgang': 'pegang',\n",
       " 'pi': 'tapi',\n",
       " 'pilkada': 'pemilihan kepala daerah',\n",
       " 'pisan': 'sangat',\n",
       " 'pk': 'penjahat kelamin',\n",
       " 'plg': 'paling',\n",
       " 'pmrnth': 'pemerintah',\n",
       " 'polantas': 'polisi lalu lintas',\n",
       " 'ponpes': 'pondok pesantren',\n",
       " 'pp': 'pulang pergi',\n",
       " 'prg': 'pergi',\n",
       " 'prnh': 'pernah',\n",
       " 'psen': 'pesan',\n",
       " 'pst': 'pasti',\n",
       " 'pswt': 'pesawat',\n",
       " 'pw': 'posisi nyaman',\n",
       " 'qmu': 'kamu',\n",
       " 'rakor': 'rapat koordinasi',\n",
       " 'ranmor': 'kendaraan bermotor',\n",
       " 're': 'reply',\n",
       " 'ref': 'referensi',\n",
       " 'rehab': 'rehabilitasi',\n",
       " 'rempong': 'sulit',\n",
       " 'repp': 'balas',\n",
       " 'restik': 'reserse narkotika',\n",
       " 'rhs': 'rahasia',\n",
       " 'rmh': 'rumah',\n",
       " 'ru': 'baru',\n",
       " 'ruko': 'rumah toko',\n",
       " 'rusunawa': 'rumah susun sewa',\n",
       " 'ruz': 'terus',\n",
       " 'saia': 'saya',\n",
       " 'salting': 'salah tingkah',\n",
       " 'sampe': 'sampai',\n",
       " 'samsek': 'sama sekali',\n",
       " 'sapose': 'siapa',\n",
       " 'satpam': 'satuan pengamanan',\n",
       " 'sbb': 'sebagai berikut',\n",
       " 'sbh': 'sebuah',\n",
       " 'sbnrny': 'sebenarnya',\n",
       " 'scr': 'secara',\n",
       " 'sdgkn': 'sedangkan',\n",
       " 'sdkt': 'sedikit',\n",
       " 'se7': 'setuju',\n",
       " 'sebelas dua belas': 'mirip',\n",
       " 'sembako': 'sembilan bahan pokok',\n",
       " 'sempet': 'sempat',\n",
       " 'sendratari': 'seni drama tari',\n",
       " 'sgt': 'sangat',\n",
       " 'shg': 'sehingga',\n",
       " 'siech': 'sih',\n",
       " 'sikon': 'situasi dan kondisi',\n",
       " 'sinetron': 'sinema elektronik',\n",
       " 'siramin': 'siramkan',\n",
       " 'sj': 'saja',\n",
       " 'skalian': 'sekalian',\n",
       " 'sklh': 'sekolah',\n",
       " 'skt': 'sakit',\n",
       " 'slesai': 'selesai',\n",
       " 'sll': 'selalu',\n",
       " 'slma': 'selama',\n",
       " 'slsai': 'selesai',\n",
       " 'smpt': 'sempat',\n",
       " 'smw': 'semua',\n",
       " 'sndiri': 'sendiri',\n",
       " 'soljum': 'sholat jumat',\n",
       " 'songong': 'sombong',\n",
       " 'sory': 'maaf',\n",
       " 'sosek': 'sosial-ekonomi',\n",
       " 'sotoy': 'sok tahu',\n",
       " 'spa': 'siapa',\n",
       " 'sppa': 'siapa',\n",
       " 'spt': 'seperti',\n",
       " 'srtfkt': 'sertifikat',\n",
       " 'stiap': 'setiap',\n",
       " 'stlh': 'setelah',\n",
       " 'suk': 'masuk',\n",
       " 'sumpek': 'sempit',\n",
       " 'syg': 'sayang',\n",
       " 't4': 'tempat',\n",
       " 'tajir': 'kaya',\n",
       " 'tau': 'tahu',\n",
       " 'taw': 'tahu',\n",
       " 'td': 'tadi',\n",
       " 'tdk': 'tidak',\n",
       " 'teh': 'kakak perempuan',\n",
       " 'telat': 'terlambat',\n",
       " 'telmi': 'telat berpikir',\n",
       " 'temen': 'teman',\n",
       " 'tengil': 'menyebalkan',\n",
       " 'tepar': 'terkapar',\n",
       " 'tggu': 'tunggu',\n",
       " 'tgu': 'tunggu',\n",
       " 'thankz': 'terima kasih',\n",
       " 'thn': 'tahun',\n",
       " 'tilang': 'bukti pelanggaran',\n",
       " 'tipiwan': 'TvOne',\n",
       " 'tks': 'terima kasih',\n",
       " 'tlp': 'telepon',\n",
       " 'tls': 'tulis',\n",
       " 'tmbah': 'tambah',\n",
       " 'tmen2': 'teman-teman',\n",
       " 'tmpah': 'tumpah',\n",
       " 'tmpt': 'tempat',\n",
       " 'tngu': 'tunggu',\n",
       " 'tnyta': 'ternyata',\n",
       " 'tokai': 'tai',\n",
       " 'toserba': 'toko serba ada',\n",
       " 'tpi': 'tapi',\n",
       " 'trdhulu': 'terdahulu',\n",
       " 'trima': 'terima kasih',\n",
       " 'trm': 'terima',\n",
       " 'trs': 'terus',\n",
       " 'trutama': 'terutama',\n",
       " 'ts': 'penulis',\n",
       " 'tst': 'tahu sama tahu',\n",
       " 'ttg': 'tentang',\n",
       " 'tuch': 'tuh',\n",
       " 'tuir': 'tua',\n",
       " 'tw': 'tahu',\n",
       " 'u': 'kamu',\n",
       " 'ud': 'sudah',\n",
       " 'udah': 'sudah',\n",
       " 'ujg': 'ujung',\n",
       " 'ul': 'ulangan',\n",
       " 'unyu': 'lucu',\n",
       " 'uplot': 'unggah',\n",
       " 'urang': 'saya',\n",
       " 'usah': 'perlu',\n",
       " 'utk': 'untuk',\n",
       " 'valas': 'valuta asing',\n",
       " 'w/': 'dengan',\n",
       " 'wadir': 'wakil direktur',\n",
       " 'wamil': 'wajib militer',\n",
       " 'warkop': 'warung kopi',\n",
       " 'warteg': 'warung tegal',\n",
       " 'wat': 'buat',\n",
       " 'wkt': 'waktu',\n",
       " 'wtf': 'what the fuck',\n",
       " 'xixixi': 'tertawa',\n",
       " 'ya': 'iya',\n",
       " 'yap': 'iya',\n",
       " 'yaudah': 'ya sudah',\n",
       " 'yawdah': 'ya sudah',\n",
       " 'yg': 'yang',\n",
       " 'yl': 'yang lain',\n",
       " 'yo': 'iya',\n",
       " 'yowes': 'ya sudah',\n",
       " 'yup': 'iya',\n",
       " '7an': 'tujuan',\n",
       " 'ababil': 'abg labil',\n",
       " 'acc': 'accord',\n",
       " 'adlah': 'adalah',\n",
       " 'adoh': 'aduh',\n",
       " 'aha': 'tertawa',\n",
       " 'aing': 'saya',\n",
       " 'aja': 'saja',\n",
       " 'ajj': 'saja',\n",
       " 'aka': 'dikenal juga sebagai',\n",
       " 'akko': 'aku',\n",
       " 'akku': 'aku',\n",
       " 'akyu': 'aku',\n",
       " 'aljasa': 'asal jadi saja',\n",
       " 'ama': 'sama',\n",
       " 'ambl': 'ambil',\n",
       " 'anjir': 'anjing',\n",
       " 'ank': 'anak',\n",
       " 'ap': 'apa',\n",
       " 'apaan': 'apa',\n",
       " 'ape': 'apa',\n",
       " 'aplot': 'unggah',\n",
       " 'apva': 'apa',\n",
       " 'aqu': 'aku',\n",
       " 'asap': 'sesegera mungkin',\n",
       " 'aseek': 'asyik',\n",
       " 'asek': 'asyik',\n",
       " 'aseknya': 'asyiknya',\n",
       " 'asoy': 'asyik',\n",
       " 'astrojim': 'astagfirullahaladzim',\n",
       " 'ath': 'kalau begitu',\n",
       " 'atuh': 'kalau begitu',\n",
       " 'ava': 'avatar',\n",
       " 'aws': 'awas',\n",
       " 'ayang': 'sayang',\n",
       " 'ayok': 'ayo',\n",
       " 'bacot': 'banyak bicara',\n",
       " 'bales': 'balas',\n",
       " 'bangdes': 'pembangunan desa',\n",
       " 'bangkotan': 'tua',\n",
       " 'banpres': 'bantuan presiden',\n",
       " 'bansarkas': 'bantuan sarana kesehatan',\n",
       " 'bazis': 'badan amal, zakat, infak, dan sedekah',\n",
       " 'bcoz': 'karena',\n",
       " 'beb': 'sayang',\n",
       " 'bejibun': 'banyak',\n",
       " 'belom': 'belum',\n",
       " 'bener': 'benar',\n",
       " 'ber2': 'berdua',\n",
       " 'berdikari': 'berdiri di atas kaki sendiri',\n",
       " 'bet': 'banget',\n",
       " 'beti': 'beda tipis',\n",
       " 'beut': 'banget',\n",
       " 'bgd': 'banget',\n",
       " 'bgs': 'bagus',\n",
       " 'bhubu': 'tidur',\n",
       " 'bimbuluh': 'bimbingan dan penyuluhan',\n",
       " 'bisi': 'kalau-kalau',\n",
       " 'bkn': 'bukan',\n",
       " 'bl': 'beli',\n",
       " 'blg': 'bilang',\n",
       " 'blm': 'belum',\n",
       " 'bls': 'balas',\n",
       " 'bnchi': 'benci',\n",
       " 'bngung': 'bingung',\n",
       " 'bnyk': 'banyak',\n",
       " 'bohay': 'badan aduhai',\n",
       " 'bokep': 'porno',\n",
       " 'bokin': 'pacar',\n",
       " 'bole': 'boleh',\n",
       " 'bolot': 'bodoh',\n",
       " 'bonyok': 'ayah ibu',\n",
       " 'bpk': 'bapak',\n",
       " 'brb': 'segera kembali',\n",
       " 'brngkt': 'berangkat',\n",
       " 'brp': 'berapa',\n",
       " 'brur': 'saudara laki-laki',\n",
       " 'bsa': 'bisa',\n",
       " 'bsk': 'besok',\n",
       " 'bu_bu': 'tidur',\n",
       " 'bubarin': 'bubarkan',\n",
       " 'buber': 'buka bersama',\n",
       " 'bujubune': 'luar biasa',\n",
       " 'buser': 'buru sergap',\n",
       " 'bwhn': 'bawahan',\n",
       " 'byar': 'bayar',\n",
       " 'byr': 'bayar',\n",
       " 'c8': 'chat',\n",
       " 'cabut': 'pergi',\n",
       " 'caem': 'cakep',\n",
       " 'cama-cama': 'sama-sama',\n",
       " 'cangcut': 'celana dalam',\n",
       " 'cape': 'capek',\n",
       " 'caur': 'jelek',\n",
       " 'cekak': 'tidak ada uang',\n",
       " 'cekidot': 'coba lihat',\n",
       " 'cemplungin': 'cemplungkan',\n",
       " 'ceper': 'pendek',\n",
       " 'ceu': 'kakak perempuan',\n",
       " 'cewe': 'cewek',\n",
       " 'cibuk': 'sibuk',\n",
       " 'cin': 'cinta',\n",
       " 'ciye': 'cie',\n",
       " 'ckck': 'ck',\n",
       " 'clbk': 'cinta lama bersemi kembali',\n",
       " 'cmpr': 'campur',\n",
       " 'cnenk': 'senang',\n",
       " 'congor': 'mulut',\n",
       " 'cow': 'cowok',\n",
       " 'coz': 'karena',\n",
       " 'cpa': 'siapa',\n",
       " 'gokil': 'gila',\n",
       " 'gombal': 'suka merayu',\n",
       " 'gpl': 'tidak pakai lama',\n",
       " 'gpp': 'tidak apa-apa',\n",
       " 'gretong': 'gratis',\n",
       " 'gt': 'begitu',\n",
       " 'gtw': 'tidak tahu',\n",
       " 'gue': 'saya',\n",
       " 'guys': 'teman-teman',\n",
       " 'gws': 'cepat sembuh',\n",
       " 'haghaghag': 'tertawa',\n",
       " 'hakhak': 'tertawa',\n",
       " 'handak': 'bahan peledak',\n",
       " 'hansip': 'pertahanan sipil',\n",
       " 'hellow': 'halo',\n",
       " 'helow': 'halo',\n",
       " 'hi': 'hai',\n",
       " 'hlng': 'hilang',\n",
       " 'hnya': 'hanya',\n",
       " 'houm': 'rumah',\n",
       " 'hrs': 'harus',\n",
       " 'hubad': 'hubungan angkatan darat',\n",
       " 'hubla': 'perhubungan laut',\n",
       " 'huft': 'mengeluh',\n",
       " 'humas': 'hubungan masyarakat',\n",
       " 'idk': 'saya tidak tahu',\n",
       " 'ilfeel': 'tidak suka',\n",
       " 'imba': 'jago sekali',\n",
       " 'imoet': 'imut',\n",
       " 'info': 'informasi',\n",
       " 'itung': 'hitung',\n",
       " 'isengin': 'bercanda',\n",
       " 'iyala': 'iya lah',\n",
       " 'iyo': 'iya',\n",
       " 'jablay': 'jarang dibelai',\n",
       " 'jadul': 'jaman dulu',\n",
       " 'jancuk': 'anjing',\n",
       " 'jd': 'jadi',\n",
       " 'jdikan': 'jadikan',\n",
       " 'jg': 'juga',\n",
       " 'jgn': 'jangan',\n",
       " 'jijay': 'jijik',\n",
       " 'jkt': 'jakarta',\n",
       " 'jnj': 'janji',\n",
       " 'jth': 'jatuh',\n",
       " 'jurdil': 'jujur adil',\n",
       " 'jwb': 'jawab',\n",
       " 'ka': 'kakak',\n",
       " 'kabag': 'kepala bagian',\n",
       " 'kacian': 'kasihan',\n",
       " 'kadit': 'kepala direktorat',\n",
       " 'kaga': 'tidak',\n",
       " 'kaka': 'kakak',\n",
       " 'kamtib': 'keamanan dan ketertiban',\n",
       " 'kamuh': 'kamu',\n",
       " 'kamyu': 'kamu',\n",
       " 'kapt': 'kapten',\n",
       " 'kasat': 'kepala satuan',\n",
       " 'kasubbid': 'kepala subbidang',\n",
       " 'kau': 'kamu',\n",
       " 'kbar': 'kabar',\n",
       " 'kcian': 'kasihan',\n",
       " 'keburu': 'terlanjur',\n",
       " 'kedubes': 'kedutaan besar',\n",
       " 'kek': 'seperti',\n",
       " 'keknya': 'kayaknya',\n",
       " 'keliatan': 'kelihatan',\n",
       " 'keneh': 'masih',\n",
       " 'kepikiran': 'terpikirkan',\n",
       " 'kepo': 'mau tahu urusan orang',\n",
       " 'kere': 'tidak punya uang',\n",
       " 'kesian': 'kasihan',\n",
       " 'ketauan': 'ketahuan',\n",
       " 'keukeuh': 'keras kepala',\n",
       " 'khan': 'kan',\n",
       " 'kibus': 'kaki busuk',\n",
       " 'kk': 'kakak',\n",
       " 'klian': 'kalian',\n",
       " 'klo': 'kalau',\n",
       " 'kluarga': 'keluarga',\n",
       " 'klwrga': 'keluarga',\n",
       " 'kmari': 'kemari',\n",
       " 'kmpus': 'kampus',\n",
       " 'kn': 'kan',\n",
       " 'knl': 'kenal',\n",
       " 'knpa': 'kenapa',\n",
       " 'kog': 'kok',\n",
       " 'kompi': 'komputer',\n",
       " 'komtiong': 'komunis Tiongkok',\n",
       " 'konjen': 'konsulat jenderal',\n",
       " 'koq': 'kok',\n",
       " 'kpd': 'kepada',\n",
       " 'kptsan': 'keputusan',\n",
       " 'krik': 'garing',\n",
       " 'krn': 'karena',\n",
       " 'ktauan': 'ketahuan',\n",
       " 'ktny': 'katanya',\n",
       " 'kudu': 'harus',\n",
       " 'kuq': 'kok',\n",
       " 'ky': 'seperti',\n",
       " 'kykny': 'kayanya',\n",
       " 'laka': 'kecelakaan',\n",
       " 'lambreta': 'lambat',\n",
       " 'lansia': 'lanjut usia',\n",
       " 'lapas': 'lembaga pemasyarakatan',\n",
       " 'lbur': 'libur',\n",
       " 'lekong': 'laki-laki',\n",
       " 'lg': 'lagi',\n",
       " 'lgkp': 'lengkap',\n",
       " 'lht': 'lihat',\n",
       " 'linmas': 'perlindungan masyarakat',\n",
       " 'lmyan': 'lumayan',\n",
       " 'lngkp': 'lengkap',\n",
       " 'loch': 'loh',\n",
       " 'lol': 'tertawa',\n",
       " 'lom': 'belum',\n",
       " 'loupz': 'cinta',\n",
       " 'lowh': 'kamu',\n",
       " 'lu': 'kamu',\n",
       " 'luchu': 'lucu',\n",
       " 'luff': 'cinta',\n",
       " 'luph': 'cinta',\n",
       " 'lw': 'kamu',\n",
       " 'lwt': 'lewat',\n",
       " 'maaciw': 'terima kasih',\n",
       " 'mabes': 'markas besar',\n",
       " 'macem-macem': 'macam-macam',\n",
       " 'madesu': 'masa depan suram',\n",
       " 'maen': 'main',\n",
       " 'mahatma': 'maju sehat bersama',\n",
       " 'mak': 'ibu',\n",
       " 'makasih': 'terima kasih',\n",
       " 'malah': 'bahkan',\n",
       " 'malu2in': 'memalukan',\n",
       " 'mamz': 'makan',\n",
       " 'manies': 'manis',\n",
       " 'mantep': 'mantap',\n",
       " 'markus': 'makelar kasus',\n",
       " 'mba': 'mbak',\n",
       " 'mending': 'lebih baik',\n",
       " 'mgkn': 'mungkin',\n",
       " 'mhn': 'mohon',\n",
       " 'miker': 'minuman keras',\n",
       " 'milis': 'mailing list',\n",
       " 'mksd': 'maksud',\n",
       " 'mls': 'malas',\n",
       " 'mnt': 'minta',\n",
       " 'moge': 'motor gede',\n",
       " 'mokat': 'mati',\n",
       " 'mosok': 'masa',\n",
       " 'msh': 'masih',\n",
       " 'mskpn': 'meskipun',\n",
       " 'msng2': 'masing-masing',\n",
       " 'muahal': 'mahal',\n",
       " 'muker': 'musyawarah kerja',\n",
       " 'mumet': 'pusing',\n",
       " 'muna': 'munafik',\n",
       " 'munaslub': 'musyawarah nasional luar biasa',\n",
       " 'musda': 'musyawarah daerah',\n",
       " 'muup': 'maaf',\n",
       " 'muuv': 'maaf',\n",
       " 'nal': 'kenal',\n",
       " 'nangis': 'menangis',\n",
       " 'naon': 'apa',\n",
       " 'napol': 'narapidana politik',\n",
       " 'naq': 'anak',\n",
       " 'narsis': 'bangga pada diri sendiri',\n",
       " 'nax': 'anak',\n",
       " 'ndak': 'tidak',\n",
       " 'ndut': 'gendut',\n",
       " 'nekolim': 'neokolonialisme',\n",
       " 'nelfon': 'menelepon',\n",
       " 'ngabis2in': 'menghabiskan',\n",
       " 'ngakak': 'tertawa',\n",
       " 'ngambek': 'marah',\n",
       " 'ngampus': 'pergi ke kampus',\n",
       " 'ngantri': 'mengantri',\n",
       " 'ngapain': 'sedang apa',\n",
       " 'ngaruh': 'berpengaruh',\n",
       " 'ngawur': 'berbicara sembarangan',\n",
       " 'ngeceng': 'kumpul bareng-bareng',\n",
       " 'ngeh': 'sadar',\n",
       " 'ngekos': 'tinggal di kos',\n",
       " 'ngelamar': 'melamar',\n",
       " 'ngeliat': 'melihat',\n",
       " 'ngemeng': 'bicara terus-terusan',\n",
       " 'ngerti': 'mengerti',\n",
       " 'nggak': 'tidak',\n",
       " 'ngikut': 'ikut',\n",
       " 'nginep': 'menginap',\n",
       " 'ngisi': 'mengisi',\n",
       " 'ngmg': 'bicara',\n",
       " 'ngocol': 'lucu',\n",
       " 'ngomongin': 'membicarakan',\n",
       " 'ngumpul': 'berkumpul',\n",
       " 'ni': 'ini',\n",
       " 'nyasar': 'tersesat',\n",
       " 'nyariin': 'mencari',\n",
       " 'nyiapin': 'mempersiapkan',\n",
       " 'nyiram': 'menyiram',\n",
       " 'nyok': 'ayo',\n",
       " 'o/': 'oleh',\n",
       " 'ok': 'ok',\n",
       " 'priksa': 'periksa',\n",
       " 'pro': 'profesional',\n",
       " 'psn': 'pesan',\n",
       " 'psti': 'pasti',\n",
       " 'puanas': 'panas',\n",
       " 'qmo': 'kamu',\n",
       " 'qt': 'kita',\n",
       " 'rame': 'ramai',\n",
       " 'raskin': 'rakyat miskin',\n",
       " 'red': 'redaksi',\n",
       " 'reg': 'register',\n",
       " 'rejeki': 'rezeki',\n",
       " 'renstra': 'rencana strategis',\n",
       " 'reskrim': 'reserse kriminal',\n",
       " 'sni': 'sini',\n",
       " 'somse': 'sombong sekali',\n",
       " 'sorry': 'maaf',\n",
       " 'sosbud': 'sosial-budaya',\n",
       " 'sospol': 'sosial-politik',\n",
       " 'sowry': 'maaf',\n",
       " 'spd': 'sepeda',\n",
       " 'sprti': 'seperti',\n",
       " 'spy': 'supaya',\n",
       " 'stelah': 'setelah',\n",
       " 'subbag': 'subbagian',\n",
       " 'sumbangin': 'sumbangkan',\n",
       " 'sy': 'saya',\n",
       " 'syp': 'siapa',\n",
       " 'tabanas': 'tabungan pembangunan nasional',\n",
       " 'tar': 'nanti',\n",
       " 'taun': 'tahun',\n",
       " 'tawh': 'tahu',\n",
       " 'tdi': 'tadi',\n",
       " 'te2p': 'tetap',\n",
       " 'tekor': 'rugi',\n",
       " 'telkom': 'telekomunikasi',\n",
       " 'telp': 'telepon',\n",
       " 'temen2': 'teman-teman',\n",
       " 'tengok': 'menjenguk',\n",
       " 'terbitin': 'terbitkan',\n",
       " 'tgl': 'tanggal',\n",
       " 'thanks': 'terima kasih',\n",
       " 'thd': 'terhadap',\n",
       " 'thx': 'terima kasih',\n",
       " 'tipi': 'TV',\n",
       " 'tkg': 'tukang',\n",
       " 'tll': 'terlalu',\n",
       " 'tlpn': 'telepon',\n",
       " 'tman': 'teman',\n",
       " 'tmbh': 'tambah',\n",
       " 'tmn2': 'teman-teman',\n",
       " 'tmph': 'tumpah',\n",
       " 'tnda': 'tanda',\n",
       " 'tnh': 'tanah',\n",
       " 'togel': 'toto gelap',\n",
       " 'tp': 'tapi',\n",
       " 'tq': 'terima kasih',\n",
       " 'trgntg': 'tergantung',\n",
       " 'trims': 'terima kasih',\n",
       " 'cb': 'coba',\n",
       " 'y': 'ya',\n",
       " 'munfik': 'munafik',\n",
       " 'reklamuk': 'reklamasi',\n",
       " 'sma': 'sama',\n",
       " 'tren': 'trend',\n",
       " 'ngehe': 'kesal',\n",
       " 'mz': 'mas',\n",
       " 'analisise': 'analisis',\n",
       " 'sadaar': 'sadar',\n",
       " 'sept': 'september',\n",
       " 'nmenarik': 'menarik',\n",
       " 'zonk': 'bodoh',\n",
       " 'rights': 'benar',\n",
       " 'simiskin': 'miskin',\n",
       " 'ngumpet': 'sembunyi',\n",
       " 'hardcore': 'keras',\n",
       " 'akhirx': 'akhirnya',\n",
       " 'solve': 'solusi',\n",
       " 'watuk': 'batuk',\n",
       " 'ngebully': 'intimidasi',\n",
       " 'masy': 'masyarakat',\n",
       " 'still': 'masih',\n",
       " 'tauk': 'tahu',\n",
       " 'mbual': 'bual',\n",
       " 'tioghoa': 'tionghoa',\n",
       " 'ngentotin': 'senggama',\n",
       " 'kentot': 'senggama',\n",
       " 'faktakta': 'fakta',\n",
       " 'sohib': 'teman',\n",
       " 'rubahnn': 'rubah',\n",
       " 'trlalu': 'terlalu',\n",
       " 'nyela': 'cela',\n",
       " 'heters': 'pembenci',\n",
       " 'nyembah': 'sembah',\n",
       " 'most': 'paling',\n",
       " 'ikon': 'lambang',\n",
       " 'light': 'terang',\n",
       " 'pndukung': 'pendukung',\n",
       " 'setting': 'atur',\n",
       " 'seting': 'akting',\n",
       " 'next': 'lanjut',\n",
       " 'waspadalah': 'waspada',\n",
       " 'gantengsaya': 'ganteng',\n",
       " 'parte': 'partai',\n",
       " 'nyerang': 'serang',\n",
       " 'nipu': 'tipu',\n",
       " 'ktipu': 'tipu',\n",
       " 'jentelmen': 'berani',\n",
       " 'buangbuang': 'buang',\n",
       " 'tsangka': 'tersangka',\n",
       " 'kurng': 'kurang',\n",
       " 'ista': 'nista',\n",
       " 'less': 'kurang',\n",
       " ...}"
      ]
     },
     "execution_count": 13,
     "metadata": {},
     "output_type": "execute_result"
    }
   ],
   "source": [
    "#membaca data dan mengubahnya menjadi dictionary\n",
    "file = open(\"combined_slang_words.txt\", \"r\")\n",
    "\n",
    "contents = file.read()\n",
    "kamus = ast.literal_eval(contents)\n",
    "\n",
    "file.close()\n",
    "print(type(kamus))\n",
    "kamus"
   ]
  },
  {
   "cell_type": "code",
   "execution_count": 14,
   "id": "9ea82c0f",
   "metadata": {
    "ExecuteTime": {
     "end_time": "2021-12-06T05:29:17.430705Z",
     "start_time": "2021-12-06T05:29:17.404974Z"
    }
   },
   "outputs": [
    {
     "data": {
      "text/plain": [
       "['ketua',\n",
       " 'panitia',\n",
       " 'kerja',\n",
       " 'rancangan',\n",
       " 'undang',\n",
       " 'undang',\n",
       " 'tindak',\n",
       " 'pidana',\n",
       " 'kekerasan',\n",
       " 'seksual',\n",
       " 'tpks',\n",
       " 'willy',\n",
       " 'aditya',\n",
       " 'berharap',\n",
       " 'sidang',\n",
       " 'pleno',\n",
       " 'pada',\n",
       " 'pekan',\n",
       " 'depan',\n",
       " 'berjalan',\n",
       " 'lancar',\n",
       " 'mengklaim',\n",
       " 'komunikasi',\n",
       " 'politik',\n",
       " 'dengan',\n",
       " 'pimpinan',\n",
       " 'poksi',\n",
       " 'masing',\n",
       " 'masing',\n",
       " 'fraksi',\n",
       " 'berlangsung',\n",
       " 'positif',\n",
       " 'sejauh',\n",
       " 'komunikasinya',\n",
       " 'bagus',\n",
       " 'semoga',\n",
       " 'titik',\n",
       " 'cerah',\n",
       " 'kata',\n",
       " 'willy',\n",
       " 'melalui',\n",
       " 'sambungan',\n",
       " 'telepon',\n",
       " 'jumat',\n",
       " 'wakil',\n",
       " 'ketua',\n",
       " 'badan',\n",
       " 'legislasi',\n",
       " 'mengungkapkan',\n",
       " 'tpks',\n",
       " 'direncanakan',\n",
       " 'akan',\n",
       " 'masuk',\n",
       " 'sidang',\n",
       " 'pleno',\n",
       " 'pekan',\n",
       " 'depan',\n",
       " 'menurutnya',\n",
       " 'draf',\n",
       " 'tpks',\n",
       " 'sudah',\n",
       " 'dalam',\n",
       " 'proses',\n",
       " 'perbaikan',\n",
       " 'sesuai',\n",
       " 'dengan',\n",
       " 'masukan',\n",
       " 'sejumlah',\n",
       " 'fraksi',\n",
       " 'semoga',\n",
       " 'minggu',\n",
       " 'depan',\n",
       " 'kita',\n",
       " 'bisa',\n",
       " 'usahakan',\n",
       " 'pleno',\n",
       " 'ujar',\n",
       " 'willy',\n",
       " 'setelah',\n",
       " 'masuk',\n",
       " 'sidang',\n",
       " 'pleno',\n",
       " 'willy',\n",
       " 'berharap',\n",
       " 'tpks',\n",
       " 'bisa',\n",
       " 'ikut',\n",
       " 'disahkan',\n",
       " 'pada',\n",
       " 'sidang',\n",
       " 'paripurna',\n",
       " 'penutupan',\n",
       " 'tpks',\n",
       " 'ditargetkan',\n",
       " 'resmi',\n",
       " 'menjadi',\n",
       " 'inisiatif',\n",
       " 'dalam',\n",
       " 'rapat',\n",
       " 'paripurna',\n",
       " 'pada',\n",
       " 'desember',\n",
       " 'sebelumnya',\n",
       " 'tpks',\n",
       " 'terancam',\n",
       " 'gugur',\n",
       " 'disahkan',\n",
       " 'usai',\n",
       " 'lima',\n",
       " 'fraksi',\n",
       " 'diketahui',\n",
       " 'masih',\n",
       " 'menolak',\n",
       " 'dalam',\n",
       " 'proses',\n",
       " 'pengambilan',\n",
       " 'keputusan',\n",
       " 'baleg',\n",
       " 'sejauh',\n",
       " 'baru',\n",
       " 'empat',\n",
       " 'fraksi',\n",
       " 'yang',\n",
       " 'setuju',\n",
       " 'tpks',\n",
       " 'dibawa',\n",
       " 'rapat',\n",
       " 'paripurna',\n",
       " 'untuk',\n",
       " 'menjadi',\n",
       " 'inisiatif',\n",
       " 'yakni',\n",
       " 'nasdem',\n",
       " 'pdip',\n",
       " 'gerindra',\n",
       " 'lima',\n",
       " 'fraksi',\n",
       " 'lainnya',\n",
       " 'yakni',\n",
       " 'golkar',\n",
       " 'demokrat',\n",
       " 'disebut',\n",
       " 'masih',\n",
       " 'menolak',\n",
       " 'menurut',\n",
       " 'willy',\n",
       " 'nasib',\n",
       " 'tpks',\n",
       " 'akan',\n",
       " 'ditentukan',\n",
       " 'lewat',\n",
       " 'voting',\n",
       " 'jika',\n",
       " 'mayoritas',\n",
       " 'fraksi',\n",
       " 'menolak',\n",
       " 'yang',\n",
       " 'diusung',\n",
       " 'sejak',\n",
       " 'tersebut',\n",
       " 'terancam',\n",
       " 'kandas',\n",
       " 'kalau',\n",
       " 'menang',\n",
       " 'lanjut',\n",
       " 'paripurna',\n",
       " 'sebagai',\n",
       " 'inisiatif',\n",
       " 'kalau',\n",
       " 'kalah',\n",
       " 'gugur',\n",
       " 'fungsi',\n",
       " 'pleno',\n",
       " 'kata']"
      ]
     },
     "execution_count": 14,
     "metadata": {},
     "output_type": "execute_result"
    }
   ],
   "source": [
    "#contoh penggunaan normalisasi\n",
    "text = df[\"Tokenized\"][4]\n",
    "final_string = ' '.join(str(kamus.get(word, word)) for word in text).split()\n",
    "final_string"
   ]
  },
  {
   "cell_type": "markdown",
   "id": "9813486e",
   "metadata": {},
   "source": [
    "hasil di atas merupakan hasil dari normalisasi kata pada data baris ke 3, sebagai contoh lebih mendalam berikut perbandingan kata sebelum normalisasi dan sesudah normalisasi yang ada pada baris ke 3"
   ]
  },
  {
   "cell_type": "code",
   "execution_count": 15,
   "id": "59bdf784",
   "metadata": {
    "ExecuteTime": {
     "end_time": "2021-12-06T05:29:17.446200Z",
     "start_time": "2021-12-06T05:29:17.436723Z"
    }
   },
   "outputs": [],
   "source": [
    "for i,j in zip(text,final_string):\n",
    "    if (i != j):\n",
    "        print(i,j)"
   ]
  },
  {
   "cell_type": "code",
   "execution_count": 16,
   "id": "9ad17493",
   "metadata": {
    "ExecuteTime": {
     "end_time": "2021-12-06T05:29:18.162254Z",
     "start_time": "2021-12-06T05:29:17.452185Z"
    }
   },
   "outputs": [],
   "source": [
    "## Change word\n",
    "\n",
    "def normalisasi(text):\n",
    "    final_string = ' '.join(str(kamus.get(word, word)) for word in text).split()\n",
    "    return final_string\n",
    "\n",
    "df['Normalisasi'] = df['Tokenized'].apply(normalisasi)"
   ]
  },
  {
   "cell_type": "code",
   "execution_count": 17,
   "id": "30db773d",
   "metadata": {
    "ExecuteTime": {
     "end_time": "2021-12-06T05:29:18.178099Z",
     "start_time": "2021-12-06T05:29:18.166004Z"
    }
   },
   "outputs": [],
   "source": [
    "for i,j in zip(df.loc[2]['Tokenized'], df.loc[2]['Normalisasi']):\n",
    "    if i != j:\n",
    "        print(i,j)"
   ]
  },
  {
   "cell_type": "markdown",
   "id": "80110273",
   "metadata": {},
   "source": [
    "# Menghapus Stopword"
   ]
  },
  {
   "cell_type": "markdown",
   "id": "122a1bc9",
   "metadata": {},
   "source": [
    "menghapus kata yang kurang penting, namun sering muncul (stopword) \n",
    "\n",
    "contoh stopword: yang\n",
    "\n",
    "pengahapusan stopword menggunakan library nltk yang sudah menyediakan daftar kata stopword indonesia dan stopword english"
   ]
  },
  {
   "cell_type": "code",
   "execution_count": 18,
   "id": "8b27071b",
   "metadata": {
    "ExecuteTime": {
     "end_time": "2021-12-06T05:29:18.446546Z",
     "start_time": "2021-12-06T05:29:18.182232Z"
    }
   },
   "outputs": [],
   "source": [
    "#mengambil stopword dari library python sastrawi\n",
    "listStopword = set(stopwords.words('indonesian'))\n",
    "listStopword.update(set(stopwords.words('english')))\n",
    "\n",
    "def stopwords_removal(words):\n",
    "    return [word for word in words if word not in listStopword]\n",
    "\n",
    "df['Removed Stopwords'] = df['Normalisasi'].apply(stopwords_removal)"
   ]
  },
  {
   "cell_type": "code",
   "execution_count": 19,
   "id": "ae690886",
   "metadata": {
    "ExecuteTime": {
     "end_time": "2021-12-06T05:29:18.461408Z",
     "start_time": "2021-12-06T05:29:18.449719Z"
    }
   },
   "outputs": [
    {
     "name": "stdout",
     "output_type": "stream",
     "text": [
      "['telah', 'selesai', 'menggelar', 'konser', 'bertajuk', 'permission', 'dance', 'stage', 'setelah', 'angeles', 'menyatakan', 'bakal', 'menyambut', 'atau', 'army', 'seoul', 'pada', 'tersebut', 'diumumkan', 'melalui', 'akun', 'resmi', 'media', 'sosial', 'pada', 'jumat', 'army', 'meyakini', 'jadwal', 'merupakan', 'rencana', 'konser', 'selanjutnya', 'dalam', 'waktu', 'dekat', 'sampai', 'bertemu', 'seoul', 'maret', 'tulis', 'cuitan', 'tersebut', 'pengumuman', 'disertai', 'dengan', 'foto', 'para', 'member', 'dengan', 'latar', 'tema', 'seperti', 'konser', 'permission', 'dance', 'stage', 'sebelumnya', 'konser', 'permission', 'dance', 'stage', 'resmi', 'berakhir', 'pada', 'kamis', 'band', 'inggris', 'coldplay', 'ikut', 'meramaikan', 'hari', 'terakhir', 'konser', 'coldplay', 'membawakan', 'single', 'kolaborasi', 'mereka', 'universe', 'selain', 'coldplay', 'rapper', 'megan', 'thee', 'stallion', 'juga', 'turut', 'meramaikan', 'konser', 'megan', 'tampil', 'hari', 'kedua', 'konser', 'yang', 'berlangsung', 'pada', 'november', 'megan', 'thee', 'stallion', 'tampil', 'bersama', 'membawakan', 'single', 'butter', 'versi', 'remix', 'merupakan', 'kali', 'pertama', 'mereka', 'membawakan', 'butter', 'versi', 'remix', 'secara', 'langsung', 'setelah', 'single', 'kolaborasi', 'dirilis', 'agustus', 'lalu', 'juga', 'bertemu', 'kembali', 'dengan', 'halsey', 'yang', 'pernah', 'berkolaborasi', 'dengan', 'mereka', 'dalam', 'single', 'with', 'single', 'dirilis', 'pada', 'musisi', 'asal', 'indonesia', 'rich', 'brian', 'juga', 'turut', 'menyaksikan', 'konser', 'konser', 'permission', 'dance', 'stage', 'lewat', 'video', 'yang', 'diunggah', 'media', 'sosial', 'pada', 'selasa', 'penyanyi', 'bernama', 'asli', 'brian', 'imanuel', 'terlihat', 'ikut', 'berjoget', 'bahkan', 'menggoyangkan', 'army', 'bomb', 'ketika', 'menyaksikan', 'konser', 'permission', 'dance', 'stage', 'menjadi', 'konser', 'offline', 'pertama', 'dalam', 'tahun', 'terakhir', 'setelah', 'menggelar', 'world', 'tour', 'love', 'yourself', 'speak', 'yourself', 'final', 'seoul', 'konser', 'berlangsung', 'sofi', 'stadium', 'pada', 'novembers', 'serta', 'desember', 'dalam', 'konser', 'akhir', 'pekan', 'lalu', 'berhasil', 'memecahkan', 'rekor', 'baru', 'disebut', 'menjadi', 'artis', 'pertama', 'yang', 'berhasil', 'menjual', 'habis', 'seluruh', 'tiket', 'untuk', 'empat', 'hari', 'konsernya', 'sofi', 'stadium', 'namun', 'beberapa', 'kursi', 'tidak', 'diisi', 'untuk', 'konser', 'permission', 'dance', 'stage', 'karena', 'tertutup', 'layar', 'besar', 'belakang', 'panggung', 'sehingga', 'jumlah', 'maksimum', 'kursi', 'yang', 'tersedia', 'sekitar', 'ribu', 'konser', 'mencapai', 'penjualan', 'tiket', 'tertinggi', 'antara', 'konser', 'yang', 'pernah', 'diadakan', 'satu', 'band', 'atau', 'artis', 'sofi', 'stadium', 'tutur', 'wakil', 'presiden', 'senior', 'pemrograman', 'sofi', 'stadium', 'christy', 'castillo', 'butcher', 'seperti', 'dilansir', 'moneys', 'naver', 'senin', 'hanya', 'digelar', 'offline', 'konser', 'tersebut', 'juga', 'disiarkan', 'online', 'live', 'streaming', 'youtube', 'theater', 'dengan', 'kapasitas', 'kursi'] \n",
      "\n",
      "['selesai', 'menggelar', 'konser', 'bertajuk', 'permission', 'dance', 'stage', 'angeles', 'menyambut', 'army', 'seoul', 'diumumkan', 'akun', 'resmi', 'media', 'sosial', 'jumat', 'army', 'jadwal', 'rencana', 'konser', 'bertemu', 'seoul', 'maret', 'tulis', 'cuitan', 'pengumuman', 'disertai', 'foto', 'member', 'latar', 'tema', 'konser', 'permission', 'dance', 'stage', 'konser', 'permission', 'dance', 'stage', 'resmi', 'kamis', 'band', 'inggris', 'coldplay', 'meramaikan', 'konser', 'coldplay', 'membawakan', 'single', 'kolaborasi', 'universe', 'coldplay', 'rapper', 'megan', 'thee', 'stallion', 'meramaikan', 'konser', 'megan', 'tampil', 'konser', 'november', 'megan', 'thee', 'stallion', 'tampil', 'membawakan', 'single', 'butter', 'versi', 'remix', 'kali', 'membawakan', 'butter', 'versi', 'remix', 'langsung', 'single', 'kolaborasi', 'dirilis', 'agustus', 'bertemu', 'halsey', 'berkolaborasi', 'single', 'single', 'dirilis', 'musisi', 'indonesia', 'rich', 'brian', 'menyaksikan', 'konser', 'konser', 'permission', 'dance', 'stage', 'video', 'diunggah', 'media', 'sosial', 'selasa', 'penyanyi', 'bernama', 'asli', 'brian', 'imanuel', 'berjoget', 'menggoyangkan', 'army', 'bomb', 'menyaksikan', 'konser', 'permission', 'dance', 'stage', 'konser', 'offline', 'menggelar', 'world', 'tour', 'love', 'speak', 'final', 'seoul', 'konser', 'sofi', 'stadium', 'novembers', 'desember', 'konser', 'pekan', 'berhasil', 'memecahkan', 'rekor', 'artis', 'berhasil', 'menjual', 'habis', 'tiket', 'konsernya', 'sofi', 'stadium', 'kursi', 'diisi', 'konser', 'permission', 'dance', 'stage', 'tertutup', 'layar', 'panggung', 'maksimum', 'kursi', 'tersedia', 'ribu', 'konser', 'mencapai', 'penjualan', 'tiket', 'tertinggi', 'konser', 'diadakan', 'band', 'artis', 'sofi', 'stadium', 'wakil', 'presiden', 'senior', 'pemrograman', 'sofi', 'stadium', 'christy', 'castillo', 'butcher', 'dilansir', 'moneys', 'naver', 'senin', 'digelar', 'offline', 'konser', 'disiarkan', 'online', 'live', 'streaming', 'youtube', 'theater', 'kapasitas', 'kursi'] \n",
      "\n"
     ]
    }
   ],
   "source": [
    "for i in df.loc[2][['Normalisasi','Removed Stopwords']]:\n",
    "    print(i,'\\n')"
   ]
  },
  {
   "cell_type": "code",
   "execution_count": 20,
   "id": "a5f5d31b",
   "metadata": {
    "ExecuteTime": {
     "end_time": "2021-12-06T05:29:18.745611Z",
     "start_time": "2021-12-06T05:29:18.464360Z"
    }
   },
   "outputs": [],
   "source": [
    "#mengembalikan token menjadi string tunggal kembali untuk stemming\n",
    "def untokenize(text):\n",
    "    \n",
    "    text = ' '.join(text)\n",
    "    step1 = text.replace(\"`` \", '\"').replace(\" ''\", '\"').replace('. . .',  '...')\n",
    "    step2 = step1.replace(\" ( \", \" (\").replace(\" ) \", \") \")\n",
    "    step3 = re.sub(r' ([.,:;?!%]+)([ \\'\"`])', r\"\\1\\2\", step2)\n",
    "    step4 = re.sub(r' ([.,:;?!%]+)$', r\"\\1\", step3)\n",
    "    step5 = step4.replace(\" '\", \"'\").replace(\" n't\", \"n't\").replace(\n",
    "         \"can not\", \"cannot\")\n",
    "    step6 = step5.replace(\" ` \", \" '\")\n",
    "    return step6.strip()\n",
    "\n",
    "df['Untokenized'] = df['Removed Stopwords'].apply(untokenize)"
   ]
  },
  {
   "cell_type": "code",
   "execution_count": 21,
   "id": "86d28cf2",
   "metadata": {
    "ExecuteTime": {
     "end_time": "2021-12-06T05:29:18.776657Z",
     "start_time": "2021-12-06T05:29:18.749596Z"
    }
   },
   "outputs": [
    {
     "name": "stdout",
     "output_type": "stream",
     "text": [
      "['selesai', 'menggelar', 'konser', 'bertajuk', 'permission', 'dance', 'stage', 'angeles', 'menyambut', 'army', 'seoul', 'diumumkan', 'akun', 'resmi', 'media', 'sosial', 'jumat', 'army', 'jadwal', 'rencana', 'konser', 'bertemu', 'seoul', 'maret', 'tulis', 'cuitan', 'pengumuman', 'disertai', 'foto', 'member', 'latar', 'tema', 'konser', 'permission', 'dance', 'stage', 'konser', 'permission', 'dance', 'stage', 'resmi', 'kamis', 'band', 'inggris', 'coldplay', 'meramaikan', 'konser', 'coldplay', 'membawakan', 'single', 'kolaborasi', 'universe', 'coldplay', 'rapper', 'megan', 'thee', 'stallion', 'meramaikan', 'konser', 'megan', 'tampil', 'konser', 'november', 'megan', 'thee', 'stallion', 'tampil', 'membawakan', 'single', 'butter', 'versi', 'remix', 'kali', 'membawakan', 'butter', 'versi', 'remix', 'langsung', 'single', 'kolaborasi', 'dirilis', 'agustus', 'bertemu', 'halsey', 'berkolaborasi', 'single', 'single', 'dirilis', 'musisi', 'indonesia', 'rich', 'brian', 'menyaksikan', 'konser', 'konser', 'permission', 'dance', 'stage', 'video', 'diunggah', 'media', 'sosial', 'selasa', 'penyanyi', 'bernama', 'asli', 'brian', 'imanuel', 'berjoget', 'menggoyangkan', 'army', 'bomb', 'menyaksikan', 'konser', 'permission', 'dance', 'stage', 'konser', 'offline', 'menggelar', 'world', 'tour', 'love', 'speak', 'final', 'seoul', 'konser', 'sofi', 'stadium', 'novembers', 'desember', 'konser', 'pekan', 'berhasil', 'memecahkan', 'rekor', 'artis', 'berhasil', 'menjual', 'habis', 'tiket', 'konsernya', 'sofi', 'stadium', 'kursi', 'diisi', 'konser', 'permission', 'dance', 'stage', 'tertutup', 'layar', 'panggung', 'maksimum', 'kursi', 'tersedia', 'ribu', 'konser', 'mencapai', 'penjualan', 'tiket', 'tertinggi', 'konser', 'diadakan', 'band', 'artis', 'sofi', 'stadium', 'wakil', 'presiden', 'senior', 'pemrograman', 'sofi', 'stadium', 'christy', 'castillo', 'butcher', 'dilansir', 'moneys', 'naver', 'senin', 'digelar', 'offline', 'konser', 'disiarkan', 'online', 'live', 'streaming', 'youtube', 'theater', 'kapasitas', 'kursi'] \n",
      "\n",
      "selesai menggelar konser bertajuk permission dance stage angeles menyambut army seoul diumumkan akun resmi media sosial jumat army jadwal rencana konser bertemu seoul maret tulis cuitan pengumuman disertai foto member latar tema konser permission dance stage konser permission dance stage resmi kamis band inggris coldplay meramaikan konser coldplay membawakan single kolaborasi universe coldplay rapper megan thee stallion meramaikan konser megan tampil konser november megan thee stallion tampil membawakan single butter versi remix kali membawakan butter versi remix langsung single kolaborasi dirilis agustus bertemu halsey berkolaborasi single single dirilis musisi indonesia rich brian menyaksikan konser konser permission dance stage video diunggah media sosial selasa penyanyi bernama asli brian imanuel berjoget menggoyangkan army bomb menyaksikan konser permission dance stage konser offline menggelar world tour love speak final seoul konser sofi stadium novembers desember konser pekan berhasil memecahkan rekor artis berhasil menjual habis tiket konsernya sofi stadium kursi diisi konser permission dance stage tertutup layar panggung maksimum kursi tersedia ribu konser mencapai penjualan tiket tertinggi konser diadakan band artis sofi stadium wakil presiden senior pemrograman sofi stadium christy castillo butcher dilansir moneys naver senin digelar offline konser disiarkan online live streaming youtube theater kapasitas kursi \n",
      "\n"
     ]
    }
   ],
   "source": [
    "for i in df.loc[2][['Removed Stopwords','Untokenized']]:\n",
    "    print(i,'\\n')"
   ]
  },
  {
   "cell_type": "markdown",
   "id": "3e52ab21",
   "metadata": {},
   "source": [
    "# Lemmatization"
   ]
  },
  {
   "cell_type": "markdown",
   "id": "3e4aadaa",
   "metadata": {},
   "source": [
    "Lemmatization merupakan proses untuk mengubah kata yang memiliki tambahan kata dari kata dasarnya menjadi bentuk dasarnya, seperti kata see, saw dan seen. akan diubah menjadi see."
   ]
  },
  {
   "cell_type": "code",
   "execution_count": 22,
   "id": "8a0783b4",
   "metadata": {
    "ExecuteTime": {
     "end_time": "2021-12-06T05:29:22.112234Z",
     "start_time": "2021-12-06T05:29:18.788494Z"
    }
   },
   "outputs": [],
   "source": [
    "#melakukan lemmatization untuk kalimat dengan bahasa inggris\n",
    "lemmatizer = WordNetLemmatizer()\n",
    "\n",
    "def lemmatize(text):\n",
    "    text = lemmatizer.lemmatize(text)\n",
    "    return text\n",
    "\n",
    "df['Lemmatized'] = df['Untokenized'].apply(lemmatize)"
   ]
  },
  {
   "cell_type": "code",
   "execution_count": 23,
   "id": "efe2a123",
   "metadata": {
    "ExecuteTime": {
     "end_time": "2021-12-06T05:29:22.127532Z",
     "start_time": "2021-12-06T05:29:22.116224Z"
    }
   },
   "outputs": [
    {
     "name": "stdout",
     "output_type": "stream",
     "text": [
      "selesai menggelar konser bertajuk permission dance stage angeles menyambut army seoul diumumkan akun resmi media sosial jumat army jadwal rencana konser bertemu seoul maret tulis cuitan pengumuman disertai foto member latar tema konser permission dance stage konser permission dance stage resmi kamis band inggris coldplay meramaikan konser coldplay membawakan single kolaborasi universe coldplay rapper megan thee stallion meramaikan konser megan tampil konser november megan thee stallion tampil membawakan single butter versi remix kali membawakan butter versi remix langsung single kolaborasi dirilis agustus bertemu halsey berkolaborasi single single dirilis musisi indonesia rich brian menyaksikan konser konser permission dance stage video diunggah media sosial selasa penyanyi bernama asli brian imanuel berjoget menggoyangkan army bomb menyaksikan konser permission dance stage konser offline menggelar world tour love speak final seoul konser sofi stadium novembers desember konser pekan berhasil memecahkan rekor artis berhasil menjual habis tiket konsernya sofi stadium kursi diisi konser permission dance stage tertutup layar panggung maksimum kursi tersedia ribu konser mencapai penjualan tiket tertinggi konser diadakan band artis sofi stadium wakil presiden senior pemrograman sofi stadium christy castillo butcher dilansir moneys naver senin digelar offline konser disiarkan online live streaming youtube theater kapasitas kursi \n",
      "\n",
      "selesai menggelar konser bertajuk permission dance stage angeles menyambut army seoul diumumkan akun resmi media sosial jumat army jadwal rencana konser bertemu seoul maret tulis cuitan pengumuman disertai foto member latar tema konser permission dance stage konser permission dance stage resmi kamis band inggris coldplay meramaikan konser coldplay membawakan single kolaborasi universe coldplay rapper megan thee stallion meramaikan konser megan tampil konser november megan thee stallion tampil membawakan single butter versi remix kali membawakan butter versi remix langsung single kolaborasi dirilis agustus bertemu halsey berkolaborasi single single dirilis musisi indonesia rich brian menyaksikan konser konser permission dance stage video diunggah media sosial selasa penyanyi bernama asli brian imanuel berjoget menggoyangkan army bomb menyaksikan konser permission dance stage konser offline menggelar world tour love speak final seoul konser sofi stadium novembers desember konser pekan berhasil memecahkan rekor artis berhasil menjual habis tiket konsernya sofi stadium kursi diisi konser permission dance stage tertutup layar panggung maksimum kursi tersedia ribu konser mencapai penjualan tiket tertinggi konser diadakan band artis sofi stadium wakil presiden senior pemrograman sofi stadium christy castillo butcher dilansir moneys naver senin digelar offline konser disiarkan online live streaming youtube theater kapasitas kursi \n",
      "\n"
     ]
    }
   ],
   "source": [
    "for i in df.loc[2][['Untokenized','Lemmatized']]:\n",
    "    print(i,'\\n')"
   ]
  },
  {
   "cell_type": "markdown",
   "id": "78112857",
   "metadata": {},
   "source": [
    "# Export data yang sudah bersih"
   ]
  },
  {
   "cell_type": "code",
   "execution_count": 24,
   "id": "dc099590",
   "metadata": {
    "ExecuteTime": {
     "end_time": "2021-12-06T05:29:24.574357Z",
     "start_time": "2021-12-06T05:29:22.132204Z"
    }
   },
   "outputs": [],
   "source": [
    "df.to_csv('Cleaned_CNN.csv',index=False)"
   ]
  },
  {
   "cell_type": "markdown",
   "id": "0f9c542f",
   "metadata": {},
   "source": [
    "# TF-IDF"
   ]
  },
  {
   "cell_type": "markdown",
   "id": "d9432f98",
   "metadata": {},
   "source": [
    "setelah kita selesai membersihkan data kita, sekarang kita masuk ke TF-IDF. TF-IDF merupakan metode untuk mengubah kalimat menjadi matrix. Juga berguna untuk memilih fitur yang berguna dengan mempertimbangkan kemunculan kata (TF) beserta inverse dari frekuensi kata pada keseluruhan dokumen"
   ]
  },
  {
   "cell_type": "code",
   "execution_count": 25,
   "id": "3e72a9b3",
   "metadata": {
    "ExecuteTime": {
     "end_time": "2021-12-06T05:29:28.380650Z",
     "start_time": "2021-12-06T05:29:24.576271Z"
    }
   },
   "outputs": [],
   "source": [
    "#membangun objek dari class tfidf\n",
    "v = TfidfVectorizer(ngram_range=(2,3),min_df= 3)\n",
    "\n",
    "#mengubah kolom data yang sudah bersih menjadi matrix\n",
    "X = v.fit_transform(df['Lemmatized'])"
   ]
  },
  {
   "cell_type": "code",
   "execution_count": 26,
   "id": "18f7fee6",
   "metadata": {
    "ExecuteTime": {
     "end_time": "2021-12-06T05:29:28.414380Z",
     "start_time": "2021-12-06T05:29:28.386091Z"
    }
   },
   "outputs": [
    {
     "data": {
      "text/plain": [
       "(3838, 49709)"
      ]
     },
     "execution_count": 26,
     "metadata": {},
     "output_type": "execute_result"
    }
   ],
   "source": [
    "#melihat jumlah baris dan kolom dari data\n",
    "X.shape"
   ]
  },
  {
   "cell_type": "code",
   "execution_count": 27,
   "id": "204de08d",
   "metadata": {
    "ExecuteTime": {
     "end_time": "2021-12-06T05:29:28.483828Z",
     "start_time": "2021-12-06T05:29:28.420099Z"
    }
   },
   "outputs": [
    {
     "data": {
      "text/plain": [
       "(3838, 49709)"
      ]
     },
     "execution_count": 27,
     "metadata": {},
     "output_type": "execute_result"
    }
   ],
   "source": [
    "X.shape"
   ]
  },
  {
   "cell_type": "code",
   "execution_count": 28,
   "id": "ee54eaf8",
   "metadata": {
    "ExecuteTime": {
     "end_time": "2021-12-06T05:29:28.514619Z",
     "start_time": "2021-12-06T05:29:28.489767Z"
    }
   },
   "outputs": [
    {
     "data": {
      "text/plain": [
       "3838"
      ]
     },
     "execution_count": 28,
     "metadata": {},
     "output_type": "execute_result"
    }
   ],
   "source": [
    "len(df)"
   ]
  },
  {
   "cell_type": "markdown",
   "id": "63de2e82",
   "metadata": {},
   "source": [
    "kita memiliki matriks dengan 3838 baris (sesuai dengan banyaknya data pada dataset) dnan 38058 fitur"
   ]
  },
  {
   "cell_type": "code",
   "execution_count": 29,
   "id": "d7b48c9e",
   "metadata": {
    "ExecuteTime": {
     "end_time": "2021-12-06T05:29:28.661550Z",
     "start_time": "2021-12-06T05:29:28.520439Z"
    }
   },
   "outputs": [
    {
     "data": {
      "text/plain": [
       "array(['aaron bissaka', 'aaron bissaka victor', 'aaron chia', ...,\n",
       "       'zulpan wartawan jumat', 'zulpan wartawan kamis',\n",
       "       'zulpan wartawan rabu'], dtype=object)"
      ]
     },
     "execution_count": 29,
     "metadata": {},
     "output_type": "execute_result"
    }
   ],
   "source": [
    "#bila kita ingin melihat fitur-fitur\n",
    "v.get_feature_names_out()"
   ]
  },
  {
   "cell_type": "markdown",
   "id": "8cf79cf9",
   "metadata": {},
   "source": [
    "# Melakukan encoding pada target / dependent variable"
   ]
  },
  {
   "cell_type": "markdown",
   "id": "9192ad30",
   "metadata": {},
   "source": [
    "Dikarenakan variable masih berbentuk string, kita perlu mengubahnya menjadi numerik. Sebelum itu, kita perlu melihat terlebih dahulu banyaknya class pada target variable"
   ]
  },
  {
   "cell_type": "code",
   "execution_count": 30,
   "id": "8a62f782",
   "metadata": {
    "ExecuteTime": {
     "end_time": "2021-12-06T05:29:28.693914Z",
     "start_time": "2021-12-06T05:29:28.669861Z"
    }
   },
   "outputs": [
    {
     "data": {
      "text/plain": [
       "array(['Nasional', 'Internasional', 'Hiburan', 'Olahraga', 'Ekonomi',\n",
       "       'Teknologi', 'Gaya Hidup'], dtype=object)"
      ]
     },
     "execution_count": 30,
     "metadata": {},
     "output_type": "execute_result"
    }
   ],
   "source": [
    "df['Category'].unique()"
   ]
  },
  {
   "cell_type": "markdown",
   "id": "4b8eb061",
   "metadata": {},
   "source": [
    "dari nilai tersebut kita memperoleh 7 kategori. Untuk melakukan encode pada multiple categories variable, kita dapat menggunakan label encoder"
   ]
  },
  {
   "cell_type": "code",
   "execution_count": 31,
   "id": "84b7e8a7",
   "metadata": {
    "ExecuteTime": {
     "end_time": "2021-12-06T05:29:28.740680Z",
     "start_time": "2021-12-06T05:29:28.701318Z"
    }
   },
   "outputs": [
    {
     "data": {
      "text/plain": [
       "array([4, 3, 2, ..., 1, 2, 4])"
      ]
     },
     "execution_count": 31,
     "metadata": {},
     "output_type": "execute_result"
    }
   ],
   "source": [
    "encoder = LabelEncoder()\n",
    "y = encoder.fit_transform(df['Category'])\n",
    "y"
   ]
  },
  {
   "cell_type": "markdown",
   "id": "e3e2f795",
   "metadata": {},
   "source": [
    "Setelah mengubah kategori menjadi angka. kita akan mengecek banyaknya kategori dari dataset"
   ]
  },
  {
   "cell_type": "code",
   "execution_count": 32,
   "id": "fc39b412",
   "metadata": {
    "ExecuteTime": {
     "end_time": "2021-12-06T05:29:28.781368Z",
     "start_time": "2021-12-06T05:29:28.750561Z"
    }
   },
   "outputs": [
    {
     "data": {
      "text/plain": [
       "{0: 633, 1: 306, 2: 303, 3: 343, 4: 1303, 5: 617, 6: 333}"
      ]
     },
     "execution_count": 32,
     "metadata": {},
     "output_type": "execute_result"
    }
   ],
   "source": [
    "category,count = np.unique(y,return_counts=True)\n",
    "dict(zip(category,count))"
   ]
  },
  {
   "cell_type": "markdown",
   "id": "bab447c8",
   "metadata": {},
   "source": [
    "dikarenakan jumlah perbandingan kategori sangat tidak imbang, kita menemui permasalahan Imbalanced class. Imbalanced class dapat mengakibatkan performansi model yang buruk. Untuk mengatasi imbalanced class kita dapat menggunakan teknik oversampling atau undersampling. Pada skenario ini, kami menggunakan metode oversampling dengan menggunakan modul bernama SMOTE "
   ]
  },
  {
   "cell_type": "markdown",
   "id": "2a284de9",
   "metadata": {},
   "source": [
    "# Oversampling"
   ]
  },
  {
   "cell_type": "code",
   "execution_count": 33,
   "id": "363f56b0",
   "metadata": {
    "ExecuteTime": {
     "end_time": "2021-12-06T05:29:29.003655Z",
     "start_time": "2021-12-06T05:29:28.787514Z"
    }
   },
   "outputs": [],
   "source": [
    "oversample = SMOTE()\n",
    "X,y = oversample.fit_resample(X,y)"
   ]
  },
  {
   "cell_type": "code",
   "execution_count": 34,
   "id": "e774b8c4",
   "metadata": {
    "ExecuteTime": {
     "end_time": "2021-12-06T05:29:29.028166Z",
     "start_time": "2021-12-06T05:29:29.008690Z"
    }
   },
   "outputs": [
    {
     "data": {
      "text/plain": [
       "{0: 1303, 1: 1303, 2: 1303, 3: 1303, 4: 1303, 5: 1303, 6: 1303}"
      ]
     },
     "execution_count": 34,
     "metadata": {},
     "output_type": "execute_result"
    }
   ],
   "source": [
    "category,count = np.unique(y,return_counts=True)\n",
    "dict(zip(category,count))"
   ]
  },
  {
   "cell_type": "markdown",
   "id": "9e9a89d9",
   "metadata": {},
   "source": [
    "Kini masing-masing category telah memiliki jumlah data yang sama"
   ]
  },
  {
   "cell_type": "markdown",
   "id": "15c36606",
   "metadata": {},
   "source": [
    "# Splitting Data"
   ]
  },
  {
   "cell_type": "markdown",
   "id": "9494b8e4",
   "metadata": {},
   "source": [
    "Membagi data menjadi data latih (training data) dan data uji (testing data)"
   ]
  },
  {
   "cell_type": "code",
   "execution_count": 35,
   "id": "ba6ee3b7",
   "metadata": {
    "ExecuteTime": {
     "end_time": "2021-12-06T05:29:29.059295Z",
     "start_time": "2021-12-06T05:29:29.032625Z"
    }
   },
   "outputs": [],
   "source": [
    "#split data dengan porsi data latih sebesar 60%, dan data uji sebesar 40%\n",
    "X_train,X_test,y_train,y_test = train_test_split(X,y,test_size = 0.4, random_state = 25)"
   ]
  },
  {
   "cell_type": "code",
   "execution_count": 36,
   "id": "15faff18",
   "metadata": {
    "ExecuteTime": {
     "end_time": "2021-12-06T05:29:29.074636Z",
     "start_time": "2021-12-06T05:29:29.062286Z"
    }
   },
   "outputs": [
    {
     "name": "stdout",
     "output_type": "stream",
     "text": [
      "(5472, 49709)\n",
      "(5472,)\n",
      "(3649, 49709)\n",
      "(3649,)\n"
     ]
    }
   ],
   "source": [
    "print(X_train.shape)\n",
    "print(y_train.shape)\n",
    "print(X_test.shape)\n",
    "print(y_test.shape)"
   ]
  },
  {
   "cell_type": "markdown",
   "id": "6bb7100d",
   "metadata": {},
   "source": [
    "# Membangun model"
   ]
  },
  {
   "cell_type": "markdown",
   "id": "8370d5b9",
   "metadata": {},
   "source": [
    "Akan menggunakan berbagai model klasifikasi lalu memilih yang terbaik dengan melihat evaluasi dari masing-masing model"
   ]
  },
  {
   "cell_type": "code",
   "execution_count": 37,
   "id": "3f85a4cd",
   "metadata": {
    "ExecuteTime": {
     "end_time": "2021-12-06T05:31:11.155967Z",
     "start_time": "2021-12-06T05:29:29.078621Z"
    }
   },
   "outputs": [],
   "source": [
    "#SVM\n",
    "SVM = svm.SVC(C=1.0, kernel=\"linear\", degree=3, gamma = \"scale\")\n",
    "SVM.fit(X_train,y_train)\n",
    "\n",
    "predictions_SVM = SVM.predict(X_test)"
   ]
  },
  {
   "cell_type": "code",
   "execution_count": 38,
   "id": "7c9d13dc",
   "metadata": {
    "ExecuteTime": {
     "end_time": "2021-12-06T05:31:11.248767Z",
     "start_time": "2021-12-06T05:31:11.158991Z"
    }
   },
   "outputs": [],
   "source": [
    "#naive_bayes\n",
    "NB = naive_bayes.MultinomialNB()\n",
    "NB.fit(X_train, y_train)\n",
    "\n",
    "predictions_NB = NB.predict(X_test)"
   ]
  },
  {
   "cell_type": "code",
   "execution_count": 39,
   "id": "9b1c4ae4",
   "metadata": {
    "ExecuteTime": {
     "end_time": "2021-12-06T05:31:43.148301Z",
     "start_time": "2021-12-06T05:31:11.253751Z"
    }
   },
   "outputs": [],
   "source": [
    "#Random Forest\n",
    "RF = RandomForestClassifier()\n",
    "RF.fit(X_train, y_train)\n",
    "\n",
    "predictions_RF = RF.predict(X_test)"
   ]
  },
  {
   "cell_type": "code",
   "execution_count": 40,
   "id": "11708c1c",
   "metadata": {
    "ExecuteTime": {
     "end_time": "2021-12-06T05:32:07.730206Z",
     "start_time": "2021-12-06T05:31:43.151292Z"
    }
   },
   "outputs": [],
   "source": [
    "#Decision Tree\n",
    "DT = DecisionTreeClassifier()\n",
    "DT.fit(X_train, y_train)\n",
    "\n",
    "predictions_DT = DT.predict(X_test)"
   ]
  },
  {
   "cell_type": "code",
   "execution_count": 41,
   "id": "dfe9f076",
   "metadata": {
    "ExecuteTime": {
     "end_time": "2021-12-06T05:32:23.303088Z",
     "start_time": "2021-12-06T05:32:07.732120Z"
    }
   },
   "outputs": [
    {
     "name": "stderr",
     "output_type": "stream",
     "text": [
      "C:\\Users\\Asus\\anaconda3\\lib\\site-packages\\sklearn\\linear_model\\_logistic.py:814: ConvergenceWarning: lbfgs failed to converge (status=1):\n",
      "STOP: TOTAL NO. of ITERATIONS REACHED LIMIT.\n",
      "\n",
      "Increase the number of iterations (max_iter) or scale the data as shown in:\n",
      "    https://scikit-learn.org/stable/modules/preprocessing.html\n",
      "Please also refer to the documentation for alternative solver options:\n",
      "    https://scikit-learn.org/stable/modules/linear_model.html#logistic-regression\n",
      "  n_iter_i = _check_optimize_result(\n"
     ]
    }
   ],
   "source": [
    "#Logistic Regression\n",
    "LR = LogisticRegression()\n",
    "LR.fit(X_train, y_train)\n",
    "\n",
    "predictions_LR = LR.predict(X_test)"
   ]
  },
  {
   "cell_type": "code",
   "execution_count": 42,
   "id": "996c8196",
   "metadata": {
    "ExecuteTime": {
     "end_time": "2021-12-06T05:32:23.335048Z",
     "start_time": "2021-12-06T05:32:23.306045Z"
    }
   },
   "outputs": [
    {
     "data": {
      "text/html": [
       "<div>\n",
       "<style scoped>\n",
       "    .dataframe tbody tr th:only-of-type {\n",
       "        vertical-align: middle;\n",
       "    }\n",
       "\n",
       "    .dataframe tbody tr th {\n",
       "        vertical-align: top;\n",
       "    }\n",
       "\n",
       "    .dataframe thead th {\n",
       "        text-align: right;\n",
       "    }\n",
       "</style>\n",
       "<table border=\"1\" class=\"dataframe\">\n",
       "  <thead>\n",
       "    <tr style=\"text-align: right;\">\n",
       "      <th></th>\n",
       "      <th>accuracy_score</th>\n",
       "    </tr>\n",
       "  </thead>\n",
       "  <tbody>\n",
       "    <tr>\n",
       "      <th>SVM</th>\n",
       "      <td>83.173472</td>\n",
       "    </tr>\n",
       "    <tr>\n",
       "      <th>Random Forest</th>\n",
       "      <td>80.953686</td>\n",
       "    </tr>\n",
       "    <tr>\n",
       "      <th>Logistic Regression</th>\n",
       "      <td>78.350233</td>\n",
       "    </tr>\n",
       "    <tr>\n",
       "      <th>Naive Bayes</th>\n",
       "      <td>70.594683</td>\n",
       "    </tr>\n",
       "    <tr>\n",
       "      <th>Decision Tree</th>\n",
       "      <td>67.662373</td>\n",
       "    </tr>\n",
       "  </tbody>\n",
       "</table>\n",
       "</div>"
      ],
      "text/plain": [
       "                     accuracy_score\n",
       "SVM                       83.173472\n",
       "Random Forest             80.953686\n",
       "Logistic Regression       78.350233\n",
       "Naive Bayes               70.594683\n",
       "Decision Tree             67.662373"
      ]
     },
     "execution_count": 42,
     "metadata": {},
     "output_type": "execute_result"
    }
   ],
   "source": [
    "#Evaluasi\n",
    "dict_accuracy_score = {\n",
    "    \"SVM\": accuracy_score(predictions_SVM,y_test) * 100,\n",
    "    \"Naive Bayes\": accuracy_score(predictions_NB,y_test) * 100,\n",
    "    \"Random Forest\": accuracy_score(predictions_RF,y_test) * 100,\n",
    "    \"Decision Tree\": accuracy_score(predictions_DT,y_test) * 100,\n",
    "    \"Logistic Regression\": accuracy_score(predictions_LR,y_test) * 100,\n",
    "} \n",
    "\n",
    "df_accuracy = pd.DataFrame.from_dict(dict_accuracy_score, orient=\"index\", columns = [\"accuracy_score\"])\n",
    "df_accuracy.sort_values(by=\"accuracy_score\", ascending = False)"
   ]
  },
  {
   "cell_type": "code",
   "execution_count": 43,
   "id": "0bc20a93",
   "metadata": {
    "ExecuteTime": {
     "end_time": "2021-12-06T05:32:24.147527Z",
     "start_time": "2021-12-06T05:32:23.338040Z"
    }
   },
   "outputs": [
    {
     "data": {
      "text/plain": [
       "<AxesSubplot:>"
      ]
     },
     "execution_count": 43,
     "metadata": {},
     "output_type": "execute_result"
    },
    {
     "data": {
      "image/png": "[encoded data removed]",
      "text/plain": [
       "<Figure size 720x1152 with 2 Axes>"
      ]
     },
     "metadata": {
      "needs_background": "light"
     },
     "output_type": "display_data"
    }
   ],
   "source": [
    "cm = confusion_matrix(y_test,predictions_SVM)\n",
    "plt.figure(figsize=(10,16))\n",
    "sns.heatmap(cm, annot=True)"
   ]
  },
  {
   "cell_type": "code",
   "execution_count": 44,
   "id": "43df2555",
   "metadata": {
    "ExecuteTime": {
     "end_time": "2021-12-06T05:32:24.178196Z",
     "start_time": "2021-12-06T05:32:24.150515Z"
    }
   },
   "outputs": [
    {
     "name": "stdout",
     "output_type": "stream",
     "text": [
      "              precision    recall  f1-score   support\n",
      "\n",
      "           0       0.75      0.75      0.75       490\n",
      "           1       0.91      0.93      0.92       518\n",
      "           2       0.91      0.91      0.91       538\n",
      "           3       0.88      0.91      0.89       533\n",
      "           4       0.59      0.61      0.60       511\n",
      "           5       0.87      0.76      0.81       533\n",
      "           6       0.91      0.93      0.92       526\n",
      "\n",
      "    accuracy                           0.83      3649\n",
      "   macro avg       0.83      0.83      0.83      3649\n",
      "weighted avg       0.83      0.83      0.83      3649\n",
      "\n"
     ]
    }
   ],
   "source": [
    "print(classification_report(y_test,predictions_SVM))"
   ]
  },
  {
   "cell_type": "markdown",
   "id": "9d1d7e0b",
   "metadata": {},
   "source": [
    "Berdasarkan evaluasi model diatas, maka model yang terbaik adalah SVM. Untuk tahapan selanjutnya yaitu deploy, kita akan menggunakan model SVM"
   ]
  },
  {
   "cell_type": "markdown",
   "id": "5a8b47a9",
   "metadata": {},
   "source": [
    "# Menyimpan model"
   ]
  },
  {
   "cell_type": "code",
   "execution_count": 45,
   "id": "b014898a",
   "metadata": {
    "ExecuteTime": {
     "end_time": "2021-12-06T05:32:24.193405Z",
     "start_time": "2021-12-06T05:32:24.181229Z"
    }
   },
   "outputs": [],
   "source": [
    "#menyimpan model dalam direktori\n",
    "Filename = 'SVM_News_Classifier.pkl'\n",
    "\n",
    "with open(Filename,'wb') as file:\n",
    "    pickle.dump(SVM,file)"
   ]
  }
 ],
 "metadata": {
  "kernelspec": {
   "display_name": "Python 3",
   "language": "python",
   "name": "python3"
  },
  "language_info": {
   "codemirror_mode": {
    "name": "ipython",
    "version": 3
   },
   "file_extension": ".py",
   "mimetype": "text/x-python",
   "name": "python",
   "nbconvert_exporter": "python",
   "pygments_lexer": "ipython3",
   "version": "3.8.5"
  },
  "varInspector": {
   "cols": {
    "lenName": 16,
    "lenType": 16,
    "lenVar": 40
   },
   "kernels_config": {
    "python": {
     "delete_cmd_postfix": "",
     "delete_cmd_prefix": "del ",
     "library": "var_list.py",
     "varRefreshCmd": "print(var_dic_list())"
    },
    "r": {
     "delete_cmd_postfix": ") ",
     "delete_cmd_prefix": "rm(",
     "library": "var_list.r",
     "varRefreshCmd": "cat(var_dic_list()) "
    }
   },
   "types_to_exclude": [
    "module",
    "function",
    "builtin_function_or_method",
    "instance",
    "_Feature"
   ],
   "window_display": false
  }
 },
 "nbformat": 4,
 "nbformat_minor": 5
}
